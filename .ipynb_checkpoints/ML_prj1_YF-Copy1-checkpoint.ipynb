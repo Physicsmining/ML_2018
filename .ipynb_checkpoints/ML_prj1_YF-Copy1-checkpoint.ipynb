{
 "cells": [
  {
   "cell_type": "code",
   "execution_count": 4,
   "metadata": {},
   "outputs": [],
   "source": [
    "import numpy as np\n",
    "import matplotlib.pyplot as plt\n",
    "import pandas as pd # remove when finished\n",
    "from implementations import *"
   ]
  },
  {
   "cell_type": "code",
   "execution_count": 5,
   "metadata": {},
   "outputs": [],
   "source": [
    "data_tr = pd.read_csv('data/train.csv')\n",
    "idx_tr = data_tr.Id"
   ]
  },
  {
   "cell_type": "code",
   "execution_count": 6,
   "metadata": {},
   "outputs": [],
   "source": [
    "features_names = data_tr.columns.drop(['Id','Prediction'])\n",
    "# features_names"
   ]
  },
  {
   "cell_type": "code",
   "execution_count": 7,
   "metadata": {},
   "outputs": [],
   "source": [
    "def missing_rate(data):\n",
    "    features = data.columns.drop(['Id','Prediction'])\n",
    "    df_ = pd.DataFrame({'idx':[np.nan]})\n",
    "    for feature in features:\n",
    "        data2 = data.loc[(data[feature]==-999)].copy()\n",
    "        missing_rate = data2[feature].size/data[feature].size\n",
    "        df1 = pd.DataFrame({feature:[missing_rate]})\n",
    "        df_ = pd.concat([df_,df1],axis=1)\n",
    "    df_ = df_.drop(columns='idx')\n",
    "    df_ = df_.T.rename(columns={0:'rate'})\n",
    "    return df_"
   ]
  },
  {
   "cell_type": "code",
   "execution_count": 8,
   "metadata": {},
   "outputs": [],
   "source": [
    "def drop_columns(df_miss):\n",
    "    names_70 = list(df_miss.loc[df_miss.rate==0.709828].index)\n",
    "    names_30 = list(df_miss.loc[df_miss.rate==0.399652].index)\n",
    "    names_phi = list(['PRI_jet_leading_phi','PRI_jet_subleading_phi','PRI_lep_phi','PRI_met_phi','PRI_tau_phi','PRI_jet_num'])\n",
    "    df_drop_name = {'names_70':names_70,'names_30':names_30,'names_phi':names_phi}\n",
    "    return df_drop_name"
   ]
  },
  {
   "cell_type": "code",
   "execution_count": 9,
   "metadata": {
    "scrolled": true
   },
   "outputs": [
    {
     "data": {
      "text/html": [
       "<div>\n",
       "<style scoped>\n",
       "    .dataframe tbody tr th:only-of-type {\n",
       "        vertical-align: middle;\n",
       "    }\n",
       "\n",
       "    .dataframe tbody tr th {\n",
       "        vertical-align: top;\n",
       "    }\n",
       "\n",
       "    .dataframe thead th {\n",
       "        text-align: right;\n",
       "    }\n",
       "</style>\n",
       "<table border=\"1\" class=\"dataframe\">\n",
       "  <thead>\n",
       "    <tr style=\"text-align: right;\">\n",
       "      <th></th>\n",
       "      <th>rate</th>\n",
       "    </tr>\n",
       "  </thead>\n",
       "  <tbody>\n",
       "    <tr>\n",
       "      <th>DER_mass_MMC</th>\n",
       "      <td>0.152456</td>\n",
       "    </tr>\n",
       "    <tr>\n",
       "      <th>DER_mass_transverse_met_lep</th>\n",
       "      <td>0.000000</td>\n",
       "    </tr>\n",
       "    <tr>\n",
       "      <th>DER_mass_vis</th>\n",
       "      <td>0.000000</td>\n",
       "    </tr>\n",
       "    <tr>\n",
       "      <th>DER_pt_h</th>\n",
       "      <td>0.000000</td>\n",
       "    </tr>\n",
       "    <tr>\n",
       "      <th>DER_deltaeta_jet_jet</th>\n",
       "      <td>0.709828</td>\n",
       "    </tr>\n",
       "    <tr>\n",
       "      <th>DER_mass_jet_jet</th>\n",
       "      <td>0.709828</td>\n",
       "    </tr>\n",
       "    <tr>\n",
       "      <th>DER_prodeta_jet_jet</th>\n",
       "      <td>0.709828</td>\n",
       "    </tr>\n",
       "    <tr>\n",
       "      <th>DER_deltar_tau_lep</th>\n",
       "      <td>0.000000</td>\n",
       "    </tr>\n",
       "    <tr>\n",
       "      <th>DER_pt_tot</th>\n",
       "      <td>0.000000</td>\n",
       "    </tr>\n",
       "    <tr>\n",
       "      <th>DER_sum_pt</th>\n",
       "      <td>0.000000</td>\n",
       "    </tr>\n",
       "    <tr>\n",
       "      <th>DER_pt_ratio_lep_tau</th>\n",
       "      <td>0.000000</td>\n",
       "    </tr>\n",
       "    <tr>\n",
       "      <th>DER_met_phi_centrality</th>\n",
       "      <td>0.000000</td>\n",
       "    </tr>\n",
       "    <tr>\n",
       "      <th>DER_lep_eta_centrality</th>\n",
       "      <td>0.709828</td>\n",
       "    </tr>\n",
       "    <tr>\n",
       "      <th>PRI_tau_pt</th>\n",
       "      <td>0.000000</td>\n",
       "    </tr>\n",
       "    <tr>\n",
       "      <th>PRI_tau_eta</th>\n",
       "      <td>0.000000</td>\n",
       "    </tr>\n",
       "    <tr>\n",
       "      <th>PRI_tau_phi</th>\n",
       "      <td>0.000000</td>\n",
       "    </tr>\n",
       "    <tr>\n",
       "      <th>PRI_lep_pt</th>\n",
       "      <td>0.000000</td>\n",
       "    </tr>\n",
       "    <tr>\n",
       "      <th>PRI_lep_eta</th>\n",
       "      <td>0.000000</td>\n",
       "    </tr>\n",
       "    <tr>\n",
       "      <th>PRI_lep_phi</th>\n",
       "      <td>0.000000</td>\n",
       "    </tr>\n",
       "    <tr>\n",
       "      <th>PRI_met</th>\n",
       "      <td>0.000000</td>\n",
       "    </tr>\n",
       "    <tr>\n",
       "      <th>PRI_met_phi</th>\n",
       "      <td>0.000000</td>\n",
       "    </tr>\n",
       "    <tr>\n",
       "      <th>PRI_met_sumet</th>\n",
       "      <td>0.000000</td>\n",
       "    </tr>\n",
       "    <tr>\n",
       "      <th>PRI_jet_num</th>\n",
       "      <td>0.000000</td>\n",
       "    </tr>\n",
       "    <tr>\n",
       "      <th>PRI_jet_leading_pt</th>\n",
       "      <td>0.399652</td>\n",
       "    </tr>\n",
       "    <tr>\n",
       "      <th>PRI_jet_leading_eta</th>\n",
       "      <td>0.399652</td>\n",
       "    </tr>\n",
       "    <tr>\n",
       "      <th>PRI_jet_leading_phi</th>\n",
       "      <td>0.399652</td>\n",
       "    </tr>\n",
       "    <tr>\n",
       "      <th>PRI_jet_subleading_pt</th>\n",
       "      <td>0.709828</td>\n",
       "    </tr>\n",
       "    <tr>\n",
       "      <th>PRI_jet_subleading_eta</th>\n",
       "      <td>0.709828</td>\n",
       "    </tr>\n",
       "    <tr>\n",
       "      <th>PRI_jet_subleading_phi</th>\n",
       "      <td>0.709828</td>\n",
       "    </tr>\n",
       "    <tr>\n",
       "      <th>PRI_jet_all_pt</th>\n",
       "      <td>0.000000</td>\n",
       "    </tr>\n",
       "  </tbody>\n",
       "</table>\n",
       "</div>"
      ],
      "text/plain": [
       "                                 rate\n",
       "DER_mass_MMC                 0.152456\n",
       "DER_mass_transverse_met_lep  0.000000\n",
       "DER_mass_vis                 0.000000\n",
       "DER_pt_h                     0.000000\n",
       "DER_deltaeta_jet_jet         0.709828\n",
       "DER_mass_jet_jet             0.709828\n",
       "DER_prodeta_jet_jet          0.709828\n",
       "DER_deltar_tau_lep           0.000000\n",
       "DER_pt_tot                   0.000000\n",
       "DER_sum_pt                   0.000000\n",
       "DER_pt_ratio_lep_tau         0.000000\n",
       "DER_met_phi_centrality       0.000000\n",
       "DER_lep_eta_centrality       0.709828\n",
       "PRI_tau_pt                   0.000000\n",
       "PRI_tau_eta                  0.000000\n",
       "PRI_tau_phi                  0.000000\n",
       "PRI_lep_pt                   0.000000\n",
       "PRI_lep_eta                  0.000000\n",
       "PRI_lep_phi                  0.000000\n",
       "PRI_met                      0.000000\n",
       "PRI_met_phi                  0.000000\n",
       "PRI_met_sumet                0.000000\n",
       "PRI_jet_num                  0.000000\n",
       "PRI_jet_leading_pt           0.399652\n",
       "PRI_jet_leading_eta          0.399652\n",
       "PRI_jet_leading_phi          0.399652\n",
       "PRI_jet_subleading_pt        0.709828\n",
       "PRI_jet_subleading_eta       0.709828\n",
       "PRI_jet_subleading_phi       0.709828\n",
       "PRI_jet_all_pt               0.000000"
      ]
     },
     "execution_count": 9,
     "metadata": {},
     "output_type": "execute_result"
    }
   ],
   "source": [
    "df_miss_tr = missing_rate(data_tr)\n",
    "df_miss_tr"
   ]
  },
  {
   "cell_type": "code",
   "execution_count": 10,
   "metadata": {
    "scrolled": true
   },
   "outputs": [],
   "source": [
    "# replacing the -999 with mode in signal or background\n",
    "\n",
    "DER_mode_s = data_tr.loc[(data_tr['DER_mass_MMC']!=-999)].loc[(data_tr['Prediction'])=='s']['DER_mass_MMC'].value_counts().index[0]#mean(axis=0)\n",
    "DER_mode_b = data_tr.loc[(data_tr['DER_mass_MMC']!=-999)].loc[(data_tr['Prediction'])=='b']['DER_mass_MMC'].value_counts().index[0]#value_counts().index[0]\n",
    "\n",
    "idx_s = data_tr.loc[(data_tr['DER_mass_MMC']==-999)].loc[(data_tr['Prediction'])=='s']['DER_mass_MMC'].index\n",
    "idx_b = data_tr.loc[(data_tr['DER_mass_MMC']==-999)].loc[(data_tr['Prediction'])=='b']['DER_mass_MMC'].index\n",
    "\n",
    "data_tr.loc[idx_s,'DER_mass_MMC']=DER_mode_s\n",
    "data_tr.loc[idx_b,'DER_mass_MMC']=DER_mode_b\n"
   ]
  },
  {
   "cell_type": "code",
   "execution_count": 11,
   "metadata": {},
   "outputs": [
    {
     "data": {
      "text/plain": [
       "{'names_70': ['DER_deltaeta_jet_jet',\n",
       "  'DER_mass_jet_jet',\n",
       "  'DER_prodeta_jet_jet',\n",
       "  'DER_lep_eta_centrality',\n",
       "  'PRI_jet_subleading_pt',\n",
       "  'PRI_jet_subleading_eta',\n",
       "  'PRI_jet_subleading_phi'],\n",
       " 'names_30': ['PRI_jet_leading_pt',\n",
       "  'PRI_jet_leading_eta',\n",
       "  'PRI_jet_leading_phi'],\n",
       " 'names_phi': ['PRI_jet_leading_phi',\n",
       "  'PRI_jet_subleading_phi',\n",
       "  'PRI_lep_phi',\n",
       "  'PRI_met_phi',\n",
       "  'PRI_tau_phi',\n",
       "  'PRI_jet_num']}"
      ]
     },
     "execution_count": 11,
     "metadata": {},
     "output_type": "execute_result"
    }
   ],
   "source": [
    "drop_col = drop_columns(df_miss_tr)\n",
    "drop_col"
   ]
  },
  {
   "cell_type": "markdown",
   "metadata": {},
   "source": [
    "'DER_deltaeta_jet_jet','DER_mass_jet_jet','DER_prodeta_jet_jet','DER_lep_eta_centrality','PRI_jet_subleading_pt','PRI_jet_subleading_eta','PRI_jet_subleading_phi': missing rate = 70.9% (PRI_jet_num <= 1)\n",
    "\n",
    "'PRI_jet_leading_pt','PRI_jet_leading_eta','PRI_jet_leading_phi': missing rate = 39.9% (PRI_jet_num = 0)"
   ]
  },
  {
   "cell_type": "code",
   "execution_count": 12,
   "metadata": {},
   "outputs": [],
   "source": [
    "def group_features_by_jet(df):\n",
    "    return {  \n",
    "        0: df.loc[df['PRI_jet_num'] == 0].copy(),\n",
    "        1: df.loc[df['PRI_jet_num'] == 1].copy(),\n",
    "        2: df.loc[(df['PRI_jet_num'] == 2) | (df['PRI_jet_num'] == 3)].copy(),\n",
    "    }"
   ]
  },
  {
   "cell_type": "code",
   "execution_count": 13,
   "metadata": {},
   "outputs": [],
   "source": [
    "feature_tr_grp = group_features_by_jet(data_tr)"
   ]
  },
  {
   "cell_type": "code",
   "execution_count": 14,
   "metadata": {},
   "outputs": [],
   "source": [
    "feature_tr_grp[0] = feature_tr_grp[0].drop(columns = list(set(drop_col['names_phi']+drop_col['names_70']+drop_col['names_30'])))\n",
    "feature_tr_grp[0] = feature_tr_grp[0].drop(columns = 'PRI_jet_all_pt')# all 0s\n",
    "feature_tr_grp[1] = feature_tr_grp[1].drop(columns = list(set(drop_col['names_phi']+drop_col['names_70'])))\n",
    "feature_tr_grp[2] = feature_tr_grp[2].drop(columns = list(set(drop_col['names_phi'])))"
   ]
  },
  {
   "cell_type": "code",
   "execution_count": 12,
   "metadata": {},
   "outputs": [],
   "source": [
    "# for df['PRI_jet_num'] == 0\n",
    "# x_tr0,mean0,std0 = standardize(feature_tr_grp[0].drop(columns = ['Id','Prediction']).values)\n",
    "# y_tr0 = feature_tr_grp[0].Prediction.replace(['s','b'],[1,-1]).values\n",
    "# w0 = least_squares(y_tr0,x_tr0)\n",
    "# idx_tr0 = feature_tr_grp[0].Id\n",
    "# y_pred_tr0 = predict_labels(w0, x_tr0)\n"
   ]
  },
  {
   "cell_type": "code",
   "execution_count": 13,
   "metadata": {},
   "outputs": [],
   "source": [
    "# for df['PRI_jet_num'] == 1\n",
    "# x_tr1,_,_ = standardize(feature_tr_grp[1].drop(columns = ['Id','Prediction']).values)\n",
    "# y_tr1 = feature_tr_grp[1].Prediction.replace(['s','b'],[1,-1]).values\n",
    "# w1 = least_squares(y_tr1,x_tr1)\n",
    "# idx_tr1 = feature_tr_grp[1].Id\n",
    "# y_pred_tr1 = predict_labels(w1, x_tr1)\n"
   ]
  },
  {
   "cell_type": "code",
   "execution_count": 14,
   "metadata": {},
   "outputs": [],
   "source": [
    "# for df['PRI_jet_num'] == 2,3\n",
    "# x_tr2,_,_ = standardize(feature_tr_grp[2].drop(columns = ['Id','Prediction']).values)\n",
    "# y_tr2 = feature_tr_grp[2].Prediction.replace(['s','b'],[1,-1]).values\n",
    "# w2 = least_squares(y_tr2,x_tr2)\n",
    "# idx_tr2 = feature_tr_grp[2].Id\n",
    "# y_pred_tr2 = predict_labels(w2, x_tr2)"
   ]
  },
  {
   "cell_type": "code",
   "execution_count": 15,
   "metadata": {},
   "outputs": [],
   "source": [
    "# create_csv_submission(idx_te, y_pred_te, 'submission.csv')"
   ]
  },
  {
   "cell_type": "code",
   "execution_count": 16,
   "metadata": {
    "scrolled": true
   },
   "outputs": [],
   "source": [
    "# k_fold = 10\n",
    "# seed = 1\n",
    "# lambdas = np.logspace(-10, 2, 20) \n",
    "\n",
    "# for lambda_ in lambdas:\n",
    "#     acc_tr0,acc_te0 = cv_loop(y_tr0, x_tr0,k_fold,seed,ridge_regression,lambda_=lambda_)\n",
    "#     print(\"lambda = {}: Training accuracy: {} - Test accuracy : {}\".format(lambda_, acc_tr0, acc_te0))"
   ]
  },
  {
   "cell_type": "code",
   "execution_count": 17,
   "metadata": {},
   "outputs": [],
   "source": [
    "w = []\n",
    "acc_tr = []\n",
    "acc_te = []\n",
    "lambda_ = 0.0001\n",
    "k_fold = 10\n",
    "seed = 1\n",
    "\n",
    "for i in range(len(feature_tr_grp)):\n",
    "    x_tr,_,_ = standardize(feature_tr_grp[i].drop(columns = ['Id','Prediction']).values)\n",
    "    y_tr = feature_tr_grp[i].Prediction.replace(['s','b'],[1,-1]).values\n",
    "    w_tmp,acc_tr_tmp,acc_te_tmp = cv_loop(y_tr, x_tr,k_fold,seed,ridge_regression,lambda_=lambda_)\n",
    "    w.append(w_tmp)\n",
    "    acc_tr.append(acc_tr_tmp)\n",
    "    acc_te.append(acc_te_tmp)\n"
   ]
  },
  {
   "cell_type": "code",
<<<<<<< HEAD
   "execution_count": 18,
=======
   "execution_count": 23,
>>>>>>> parent of ae38e3a... update
   "metadata": {},
   "outputs": [
    {
     "data": {
      "text/plain": [
<<<<<<< HEAD
       "[0.8169452507256529, 0.7109878772246583, 0.7306589467879789]"
      ]
     },
     "execution_count": 18,
=======
       "0.7307252250389424"
      ]
     },
     "execution_count": 23,
>>>>>>> parent of ae38e3a... update
     "metadata": {},
     "output_type": "execute_result"
    }
   ],
   "source": [
<<<<<<< HEAD
    "acc_te"
=======
    "compute_accuracy(y_pred, y_tr)"
   ]
  },
  {
   "cell_type": "code",
   "execution_count": 15,
   "metadata": {},
   "outputs": [],
   "source": [
    "x_tr,_,_ = standardize(feature_tr_grp[0].drop(columns = ['Id','Prediction']).values)\n",
    "x_tr = np.hstack((np.ones((x_tr.shape[0], 1)), x_tr))\n",
    "y_tr = feature_tr_grp[0].Prediction.replace(['s','b'],[1,-1]).values\n",
    "initial_w = np.zeros((x_tr.shape[1], 1))\n",
    "max_iters = 100\n",
    "gamma = 0.01\n",
    "# threshold = 1e-8\n",
    "# logistic_regression_gradient_descent(y_tr, x_tr, initial_w, max_iters, gamma)"
>>>>>>> parent of ae38e3a... update
   ]
  },
  {
   "cell_type": "code",
<<<<<<< HEAD
   "execution_count": 19,
   "metadata": {},
   "outputs": [
    {
     "data": {
      "text/plain": [
       "[0.8168768488245368, 0.7115432010316665, 0.7309776532034492]"
      ]
     },
     "execution_count": 19,
     "metadata": {},
     "output_type": "execute_result"
    }
   ],
   "source": [
    "acc_tr"
=======
   "execution_count": 26,
   "metadata": {},
   "outputs": [],
   "source": [
    "k_indices = build_k_indices(y_tr, k_fold = 1000, seed = 10)\n",
    "k = 10\n",
    "train_idx = k_indices[k]\n",
    "test_idx = list(set(np.arange(0,len(y_tr)))-set(k_indices[k]))\n",
    "[x_train,y_train,x_test,y_test] = [x_tr[train_idx], y_tr[train_idx], x_tr[test_idx], y_tr[test_idx]]"
>>>>>>> parent of ae38e3a... update
   ]
  },
  {
   "cell_type": "code",
<<<<<<< HEAD
   "execution_count": 21,
=======
   "execution_count": 27,
>>>>>>> parent of ae38e3a... update
   "metadata": {},
   "outputs": [
    {
     "data": {
      "text/plain": [
<<<<<<< HEAD
       "[array([-0.48961077,  0.03091045, -0.26380926, -0.43359556, -0.02308181,\n",
       "         0.3591363 , -0.02308797,  0.14712033, -0.17650941,  0.02952037,\n",
       "         0.09995359, -0.00117028,  0.13331785,  0.00662807,  0.10217144,\n",
       "         0.03344572]),\n",
       " array([-0.28525696,  0.05236991, -0.22292776, -0.28996612, -0.07507524,\n",
       "         0.24289928,  0.05308152,  0.123204  , -0.17209991,  0.13687394,\n",
       "         0.15105514,  0.00388507,  0.22050839, -0.00787073,  0.06268508,\n",
       "        -0.03844759,  0.00350894, -0.00068229,  0.00354204]),\n",
       " array([-0.10492043,  0.03090782, -0.15897442, -0.18392011,  0.13483628,\n",
       "        -0.00333401,  0.21038141,  0.01052473,  0.22921216, -0.02893454,\n",
       "        -0.02788078, -0.1699971 ,  0.12538733,  0.14920395,  0.17458448,\n",
       "        -0.0051819 ,  0.25354947, -0.00562043,  0.06164492, -0.16261419,\n",
       "        -0.00201729,  0.00470667,  0.09608638,  0.00488708, -0.14947115])]"
      ]
     },
     "execution_count": 21,
=======
       "99"
      ]
     },
     "execution_count": 27,
>>>>>>> parent of ae38e3a... update
     "metadata": {},
     "output_type": "execute_result"
    }
   ],
   "source": [
<<<<<<< HEAD
    "w"
=======
    "len(train_idx)"
>>>>>>> parent of ae38e3a... update
   ]
  },
  {
   "cell_type": "code",
<<<<<<< HEAD
   "execution_count": 22,
   "metadata": {},
   "outputs": [],
   "source": [
    "x_tr = np.hstack((np.ones((x_tr.shape[0], 1)), x_tr))\n",
    "y_pred = predict_labels(w[2], x_tr)"
   ]
  },
  {
   "cell_type": "code",
   "execution_count": 23,
=======
   "execution_count": 28,
>>>>>>> parent of ae38e3a... update
   "metadata": {},
   "outputs": [
    {
     "data": {
      "text/plain": [
<<<<<<< HEAD
       "0.7307252250389424"
      ]
     },
     "execution_count": 23,
=======
       "(1000, 99)"
      ]
     },
     "execution_count": 28,
>>>>>>> parent of ae38e3a... update
     "metadata": {},
     "output_type": "execute_result"
    }
   ],
   "source": [
<<<<<<< HEAD
    "compute_accuracy(y_pred, y_tr)"
=======
    "k_indices.shape"
   ]
  },
  {
   "cell_type": "code",
   "execution_count": 63,
   "metadata": {},
   "outputs": [],
   "source": [
    "losses = []\n",
    "w = initial_w\n",
    "# loss, w = learning_by_gradient_descent(y_train, x_train, w, gamma)\n",
    "# start the logistic regression\n",
    "for iter in range(max_iters):\n",
    "    # get loss and update w.\n",
    "    loss, w = learning_by_gradient_descent(y_train, x_train, w, gamma)\n",
    "    # log info\n",
    "    if iter % 10 == 0:\n",
    "        print(\"Current iteration={i}, loss={l}\".format(i=iter, l=loss))\n",
    "    # converge criterion\n",
    "    losses.append(loss)\n",
    "    if len(losses) > 1 and np.abs(losses[-1] - losses[-2]) < threshold:\n",
    "        break\n"
>>>>>>> parent of ae38e3a... update
   ]
  }
 ],
 "metadata": {
  "kernelspec": {
   "display_name": "Python 3",
   "language": "python",
   "name": "python3"
  },
  "language_info": {
   "codemirror_mode": {
    "name": "ipython",
    "version": 3
   },
   "file_extension": ".py",
   "mimetype": "text/x-python",
   "name": "python",
   "nbconvert_exporter": "python",
   "pygments_lexer": "ipython3",
   "version": "3.6.5"
  }
 },
 "nbformat": 4,
 "nbformat_minor": 2
}
