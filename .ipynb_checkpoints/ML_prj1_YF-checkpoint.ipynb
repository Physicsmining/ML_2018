{
 "cells": [
  {
   "cell_type": "code",
   "execution_count": 1,
   "metadata": {},
   "outputs": [],
   "source": [
    "import numpy as np\n",
    "import matplotlib.pyplot as plt\n",
    "import pandas as pd # remove when finished\n",
    "from implementations import *"
   ]
  },
  {
   "cell_type": "code",
   "execution_count": 2,
   "metadata": {},
   "outputs": [],
   "source": [
    "# from prepare import *\n",
    "# from costs import *\n",
    "# from grid_search import *\n",
    "# from gradient_descent import *\n",
    "# from stochastic_gradient_descent import *\n",
    "# from build_polynomial import *\n",
    "# from least_squares import *\n",
    "# from split_data import *\n",
    "# from ridge_regression import * \n",
    "# from proj1_helpers import *"
   ]
  },
  {
   "cell_type": "code",
   "execution_count": 3,
   "metadata": {},
   "outputs": [],
   "source": [
    "# label, features, ids = load_csv_data(data_path, sub_sample=True)"
   ]
  },
  {
   "cell_type": "code",
   "execution_count": 4,
   "metadata": {},
   "outputs": [],
   "source": [
    "data_tr = pd.read_csv('data/train.csv')\n",
    "data_te = pd.read_csv('data/test.csv')\n",
    "idx_tr = data_tr.Id\n",
    "idx_te = data_te.Id\n",
    "# data_tr.head()"
   ]
  },
  {
   "cell_type": "code",
   "execution_count": 5,
   "metadata": {},
   "outputs": [],
   "source": [
    "features_names = data_tr.columns.drop(['Id','Prediction'])\n",
    "# features_names"
   ]
  },
  {
   "cell_type": "code",
   "execution_count": 6,
   "metadata": {},
   "outputs": [],
   "source": [
    "def hist_for_feature(data,dataCol):\n",
    "    data1 = data.loc[(data[dataCol]!=-999)].copy()\n",
    "    data1_s = data1.loc[(data.Prediction=='s')].copy()\n",
    "    data1_b = data1.loc[(data.Prediction=='b')].copy()\n",
    "\n",
    "    fig, (ax1, ax2) = plt.subplots(1, 2,figsize=(20, 8))\n",
    "    hist_range = (min(data1_s[dataCol]),max(data1_s[dataCol]))\n",
    "    ax1.hist(data1_s[dataCol],log=False,range = hist_range,color = '#e0f3db')\n",
    "    ax1.set_title(dataCol+'_s')\n",
    "    ax2.hist(data1_b[dataCol],log=False,range = hist_range, color = '#999999')\n",
    "    ax2.set_title(dataCol+'_b')\n",
    "    plt.savefig('image/hist_notlog/'+dataCol+'.jpg')\n",
    "    del ax1,ax2\n",
    "    plt.close('all')"
   ]
  },
  {
   "cell_type": "code",
   "execution_count": 7,
   "metadata": {},
   "outputs": [],
   "source": [
    "# for feature in features:\n",
    "#     hist_for_feature(data_tr,feature)"
   ]
  },
  {
   "cell_type": "code",
   "execution_count": 8,
   "metadata": {},
   "outputs": [],
   "source": [
    "def missing_rate(data):\n",
    "    features = data.columns.drop(['Id','Prediction'])\n",
    "    df_ = pd.DataFrame({'idx':[np.nan]})\n",
    "    for feature in features:\n",
    "        data2 = data.loc[(data[feature]==-999)].copy()\n",
    "        missing_rate = data2[feature].size/data[feature].size\n",
    "        df1 = pd.DataFrame({feature:[missing_rate]})\n",
    "        df_ = pd.concat([df_,df1],axis=1)\n",
    "    df_ = df_.drop(columns='idx')\n",
    "    df_ = df_.T.rename(columns={0:'rate'})\n",
    "    return df_"
   ]
  },
  {
   "cell_type": "code",
   "execution_count": 9,
   "metadata": {},
   "outputs": [],
   "source": [
    "def drop_columns(df_miss):\n",
    "    names_70 = list(df_miss.loc[df_miss.rate==0.709828].index)\n",
    "    names_30 = list(df_miss.loc[df_miss.rate==0.399652].index)\n",
    "    names_phi = list(['PRI_jet_leading_phi','PRI_jet_subleading_phi','PRI_lep_phi','PRI_met_phi','PRI_tau_phi','PRI_jet_num'])\n",
    "    corr0 = list(['DER_mass_MMC','DER_pt_tot','PRI_tau_pt','PRI_lep_pt'])\n",
    "    corr1_2 = list(['DER_mass_MMC','DER_pt_h', 'DER_sum_pt', 'PRI_met_sumet','PRI_jet_all_pt','PRI_lep_pt'])\n",
    "    df_drop_name = {'names_70':names_70,'names_30':names_30,'names_phi':names_phi,'corr0':corr0,'corr1_2':corr1_2}\n",
    "\n",
    "    return df_drop_name"
   ]
  },
  {
   "cell_type": "code",
   "execution_count": 10,
   "metadata": {
    "scrolled": true
   },
   "outputs": [
    {
     "data": {
      "text/html": [
       "<div>\n",
       "<style scoped>\n",
       "    .dataframe tbody tr th:only-of-type {\n",
       "        vertical-align: middle;\n",
       "    }\n",
       "\n",
       "    .dataframe tbody tr th {\n",
       "        vertical-align: top;\n",
       "    }\n",
       "\n",
       "    .dataframe thead th {\n",
       "        text-align: right;\n",
       "    }\n",
       "</style>\n",
       "<table border=\"1\" class=\"dataframe\">\n",
       "  <thead>\n",
       "    <tr style=\"text-align: right;\">\n",
       "      <th></th>\n",
       "      <th>rate</th>\n",
       "    </tr>\n",
       "  </thead>\n",
       "  <tbody>\n",
       "    <tr>\n",
       "      <th>DER_mass_MMC</th>\n",
       "      <td>0.152456</td>\n",
       "    </tr>\n",
       "    <tr>\n",
       "      <th>DER_mass_transverse_met_lep</th>\n",
       "      <td>0.000000</td>\n",
       "    </tr>\n",
       "    <tr>\n",
       "      <th>DER_mass_vis</th>\n",
       "      <td>0.000000</td>\n",
       "    </tr>\n",
       "    <tr>\n",
       "      <th>DER_pt_h</th>\n",
       "      <td>0.000000</td>\n",
       "    </tr>\n",
       "    <tr>\n",
       "      <th>DER_deltaeta_jet_jet</th>\n",
       "      <td>0.709828</td>\n",
       "    </tr>\n",
       "    <tr>\n",
       "      <th>DER_mass_jet_jet</th>\n",
       "      <td>0.709828</td>\n",
       "    </tr>\n",
       "    <tr>\n",
       "      <th>DER_prodeta_jet_jet</th>\n",
       "      <td>0.709828</td>\n",
       "    </tr>\n",
       "    <tr>\n",
       "      <th>DER_deltar_tau_lep</th>\n",
       "      <td>0.000000</td>\n",
       "    </tr>\n",
       "    <tr>\n",
       "      <th>DER_pt_tot</th>\n",
       "      <td>0.000000</td>\n",
       "    </tr>\n",
       "    <tr>\n",
       "      <th>DER_sum_pt</th>\n",
       "      <td>0.000000</td>\n",
       "    </tr>\n",
       "    <tr>\n",
       "      <th>DER_pt_ratio_lep_tau</th>\n",
       "      <td>0.000000</td>\n",
       "    </tr>\n",
       "    <tr>\n",
       "      <th>DER_met_phi_centrality</th>\n",
       "      <td>0.000000</td>\n",
       "    </tr>\n",
       "    <tr>\n",
       "      <th>DER_lep_eta_centrality</th>\n",
       "      <td>0.709828</td>\n",
       "    </tr>\n",
       "    <tr>\n",
       "      <th>PRI_tau_pt</th>\n",
       "      <td>0.000000</td>\n",
       "    </tr>\n",
       "    <tr>\n",
       "      <th>PRI_tau_eta</th>\n",
       "      <td>0.000000</td>\n",
       "    </tr>\n",
       "    <tr>\n",
       "      <th>PRI_tau_phi</th>\n",
       "      <td>0.000000</td>\n",
       "    </tr>\n",
       "    <tr>\n",
       "      <th>PRI_lep_pt</th>\n",
       "      <td>0.000000</td>\n",
       "    </tr>\n",
       "    <tr>\n",
       "      <th>PRI_lep_eta</th>\n",
       "      <td>0.000000</td>\n",
       "    </tr>\n",
       "    <tr>\n",
       "      <th>PRI_lep_phi</th>\n",
       "      <td>0.000000</td>\n",
       "    </tr>\n",
       "    <tr>\n",
       "      <th>PRI_met</th>\n",
       "      <td>0.000000</td>\n",
       "    </tr>\n",
       "    <tr>\n",
       "      <th>PRI_met_phi</th>\n",
       "      <td>0.000000</td>\n",
       "    </tr>\n",
       "    <tr>\n",
       "      <th>PRI_met_sumet</th>\n",
       "      <td>0.000000</td>\n",
       "    </tr>\n",
       "    <tr>\n",
       "      <th>PRI_jet_num</th>\n",
       "      <td>0.000000</td>\n",
       "    </tr>\n",
       "    <tr>\n",
       "      <th>PRI_jet_leading_pt</th>\n",
       "      <td>0.399652</td>\n",
       "    </tr>\n",
       "    <tr>\n",
       "      <th>PRI_jet_leading_eta</th>\n",
       "      <td>0.399652</td>\n",
       "    </tr>\n",
       "    <tr>\n",
       "      <th>PRI_jet_leading_phi</th>\n",
       "      <td>0.399652</td>\n",
       "    </tr>\n",
       "    <tr>\n",
       "      <th>PRI_jet_subleading_pt</th>\n",
       "      <td>0.709828</td>\n",
       "    </tr>\n",
       "    <tr>\n",
       "      <th>PRI_jet_subleading_eta</th>\n",
       "      <td>0.709828</td>\n",
       "    </tr>\n",
       "    <tr>\n",
       "      <th>PRI_jet_subleading_phi</th>\n",
       "      <td>0.709828</td>\n",
       "    </tr>\n",
       "    <tr>\n",
       "      <th>PRI_jet_all_pt</th>\n",
       "      <td>0.000000</td>\n",
       "    </tr>\n",
       "  </tbody>\n",
       "</table>\n",
       "</div>"
      ],
      "text/plain": [
       "                                 rate\n",
       "DER_mass_MMC                 0.152456\n",
       "DER_mass_transverse_met_lep  0.000000\n",
       "DER_mass_vis                 0.000000\n",
       "DER_pt_h                     0.000000\n",
       "DER_deltaeta_jet_jet         0.709828\n",
       "DER_mass_jet_jet             0.709828\n",
       "DER_prodeta_jet_jet          0.709828\n",
       "DER_deltar_tau_lep           0.000000\n",
       "DER_pt_tot                   0.000000\n",
       "DER_sum_pt                   0.000000\n",
       "DER_pt_ratio_lep_tau         0.000000\n",
       "DER_met_phi_centrality       0.000000\n",
       "DER_lep_eta_centrality       0.709828\n",
       "PRI_tau_pt                   0.000000\n",
       "PRI_tau_eta                  0.000000\n",
       "PRI_tau_phi                  0.000000\n",
       "PRI_lep_pt                   0.000000\n",
       "PRI_lep_eta                  0.000000\n",
       "PRI_lep_phi                  0.000000\n",
       "PRI_met                      0.000000\n",
       "PRI_met_phi                  0.000000\n",
       "PRI_met_sumet                0.000000\n",
       "PRI_jet_num                  0.000000\n",
       "PRI_jet_leading_pt           0.399652\n",
       "PRI_jet_leading_eta          0.399652\n",
       "PRI_jet_leading_phi          0.399652\n",
       "PRI_jet_subleading_pt        0.709828\n",
       "PRI_jet_subleading_eta       0.709828\n",
       "PRI_jet_subleading_phi       0.709828\n",
       "PRI_jet_all_pt               0.000000"
      ]
     },
     "execution_count": 10,
     "metadata": {},
     "output_type": "execute_result"
    }
   ],
   "source": [
    "df_miss_tr = missing_rate(data_tr)\n",
    "df_miss_tr"
   ]
  },
  {
   "cell_type": "code",
   "execution_count": 11,
   "metadata": {
    "scrolled": true
   },
   "outputs": [],
   "source": [
    "# replacing the -999 with mode in signal or background\n",
    "\n",
    "DER_mode_s = data_tr.loc[(data_tr['DER_mass_MMC']!=-999)].loc[(data_tr['Prediction'])=='s']['DER_mass_MMC'].value_counts().index[0]#value_counts().index[0]\n",
    "DER_mode_b = data_tr.loc[(data_tr['DER_mass_MMC']!=-999)].loc[(data_tr['Prediction'])=='b']['DER_mass_MMC'].value_counts().index[0]#mean(axis=0)\n",
    "\n",
    "idx_s = data_tr.loc[(data_tr['DER_mass_MMC']==-999)].loc[(data_tr['Prediction'])=='s']['DER_mass_MMC'].index\n",
    "idx_b = data_tr.loc[(data_tr['DER_mass_MMC']==-999)].loc[(data_tr['Prediction'])=='b']['DER_mass_MMC'].index\n",
    "\n",
    "data_tr.loc[idx_s,'DER_mass_MMC']=DER_mode_s\n",
    "data_tr.loc[idx_b,'DER_mass_MMC']=DER_mode_b\n"
   ]
  },
  {
   "cell_type": "code",
   "execution_count": 12,
   "metadata": {},
   "outputs": [],
   "source": [
    "DER_mode_te = data_te.loc[(data_te['DER_mass_MMC']!=-999)]['DER_mass_MMC'].value_counts().index[0]#mean(axis=0)\n",
    "idx_te = data_te.loc[(data_te['DER_mass_MMC']==-999)]['DER_mass_MMC'].index\n",
    "data_te.loc[idx_te,'DER_mass_MMC']=DER_mode_te"
   ]
  },
  {
   "cell_type": "code",
   "execution_count": 13,
   "metadata": {},
   "outputs": [
    {
     "data": {
      "text/plain": [
       "{'names_70': ['DER_deltaeta_jet_jet',\n",
       "  'DER_mass_jet_jet',\n",
       "  'DER_prodeta_jet_jet',\n",
       "  'DER_lep_eta_centrality',\n",
       "  'PRI_jet_subleading_pt',\n",
       "  'PRI_jet_subleading_eta',\n",
       "  'PRI_jet_subleading_phi'],\n",
       " 'names_30': ['PRI_jet_leading_pt',\n",
       "  'PRI_jet_leading_eta',\n",
       "  'PRI_jet_leading_phi'],\n",
       " 'names_phi': ['PRI_jet_leading_phi',\n",
       "  'PRI_jet_subleading_phi',\n",
       "  'PRI_lep_phi',\n",
       "  'PRI_met_phi',\n",
       "  'PRI_tau_phi',\n",
       "  'PRI_jet_num'],\n",
       " 'corr0': ['DER_mass_MMC', 'DER_pt_tot', 'PRI_tau_pt', 'PRI_lep_pt'],\n",
       " 'corr1_2': ['DER_mass_MMC',\n",
       "  'DER_pt_h',\n",
       "  'DER_sum_pt',\n",
       "  'PRI_met_sumet',\n",
       "  'PRI_jet_all_pt',\n",
       "  'PRI_lep_pt']}"
      ]
     },
     "execution_count": 13,
     "metadata": {},
     "output_type": "execute_result"
    }
   ],
   "source": [
    "drop_col = drop_columns(df_miss_tr)\n",
    "drop_col"
   ]
  },
  {
   "cell_type": "markdown",
   "metadata": {},
   "source": [
    "'DER_deltaeta_jet_jet','DER_mass_jet_jet','DER_prodeta_jet_jet','DER_lep_eta_centrality','PRI_jet_subleading_pt','PRI_jet_subleading_eta','PRI_jet_subleading_phi': missing rate = 70.9% (PRI_jet_num <= 1)\n",
    "\n",
    "'PRI_jet_leading_pt','PRI_jet_leading_eta','PRI_jet_leading_phi': missing rate = 39.9% (PRI_jet_num = 0)"
   ]
  },
  {
   "cell_type": "code",
   "execution_count": 14,
   "metadata": {},
   "outputs": [],
   "source": [
    "def group_features_by_jet(df):\n",
    "    return {  \n",
    "        0: df.loc[df['PRI_jet_num'] == 0].copy(),\n",
    "        1: df.loc[df['PRI_jet_num'] == 1].copy(),\n",
    "        2: df.loc[(df['PRI_jet_num'] == 2) | (df['PRI_jet_num'] == 3)].copy(),\n",
    "    }"
   ]
  },
  {
   "cell_type": "code",
   "execution_count": 23,
   "metadata": {},
   "outputs": [],
   "source": [
    "feature_tr_grp = group_features_by_jet(data_tr)\n",
    "feature_te_grp = group_features_by_jet(data_te)"
   ]
  },
  {
   "cell_type": "code",
   "execution_count": 24,
   "metadata": {},
   "outputs": [],
   "source": [
    "feature_tr_grp[0] = feature_tr_grp[0].drop(columns = list(set(drop_col['names_phi']+drop_col['names_70']+drop_col['names_30']+drop_col['corr0'])))\n",
    "feature_tr_grp[0] = feature_tr_grp[0].drop(columns = 'PRI_jet_all_pt')# all 0s\n",
    "feature_tr_grp[1] = feature_tr_grp[1].drop(columns = list(set(drop_col['names_phi']+drop_col['names_70']+drop_col['corr1_2'])))\n",
    "feature_tr_grp[2] = feature_tr_grp[2].drop(columns = list(set(drop_col['names_phi']+drop_col['corr1_2'])))\n",
    "\n",
    "feature_te_grp[0] = feature_te_grp[0].drop(columns = list(set(drop_col['names_phi']+drop_col['names_70']+drop_col['names_30']+drop_col['corr0'])))\n",
    "feature_te_grp[0] = feature_te_grp[0].drop(columns = 'PRI_jet_all_pt')# all 0s\n",
    "feature_te_grp[1] = feature_te_grp[1].drop(columns = list(set(drop_col['names_phi']+drop_col['names_70']+drop_col['corr1_2'])))\n",
    "feature_te_grp[2] = feature_te_grp[2].drop(columns = list(set(drop_col['names_phi']+drop_col['corr1_2'])))"
   ]
  },
  {
   "cell_type": "code",
   "execution_count": 25,
   "metadata": {},
   "outputs": [],
   "source": [
    "w = []\n",
    "acc_tr = []\n",
    "acc_te = []\n",
    "lambda_ = 0.0001\n",
    "k_fold = 10\n",
    "seed = 1\n",
    "y_te = []\n",
    "\n",
    "for i in range(len(feature_tr_grp)):\n",
    "    x = feature_tr_grp[i].drop(columns = ['Id','Prediction']).values\n",
    "    x = build_polynomial_features(x,3)\n",
    "    x_tr,_,_ = standardize(x)\n",
    "    y_tr = feature_tr_grp[i].Prediction.replace(['s','b'],[1,-1]).values\n",
    "    w_tmp,acc_tr_tmp,acc_te_tmp = cv_loop(y_tr, x_tr,k_fold,seed,ridge_regression,lambda_=lambda_)\n",
    "    w.append(w_tmp)\n",
    "    acc_tr.append(acc_tr_tmp)\n",
    "    acc_te.append(acc_te_tmp)\n",
    "    \n",
    "    x = feature_te_grp[i].drop(columns = ['Id','Prediction']).values\n",
    "    x = build_polynomial_features(x,3)\n",
    "    x_te,_,_ = standardize(x)\n",
    "    x_te = np.hstack((np.ones((x_te.shape[0], 1)), x_te))\n",
    "    y_te.append(predict_labels(w[i], x_te))"
   ]
  },
  {
   "cell_type": "code",
   "execution_count": 18,
   "metadata": {},
   "outputs": [
    {
     "data": {
      "text/plain": [
       "227458"
      ]
     },
     "execution_count": 18,
     "metadata": {},
     "output_type": "execute_result"
    }
   ],
   "source": [
    "#y_pred_te = np.concatenate((y_te[0],y_te[1],y_te[2]))\n",
    "len(y_te[0])"
   ]
  },
  {
   "cell_type": "code",
   "execution_count": 19,
   "metadata": {},
   "outputs": [
    {
     "data": {
      "text/plain": [
       "(227458,)"
      ]
     },
     "execution_count": 19,
     "metadata": {},
     "output_type": "execute_result"
    }
   ],
   "source": [
    "idx_te0 = feature_te_grp[0].Id.values#drop(columns = ['Id','Prediction']).values\n",
    "idx_te0.shape"
   ]
  },
  {
   "cell_type": "code",
   "execution_count": 20,
   "metadata": {},
   "outputs": [],
   "source": [
    "y_pred_te = np.concatenate((y_te[0],y_te[1],y_te[2]))\n",
    "idx_te = np.concatenate((feature_te_grp[0].Id.values,feature_te_grp[1].Id.values,feature_te_grp[2].Id.values))"
   ]
  },
  {
   "cell_type": "code",
   "execution_count": 21,
   "metadata": {},
   "outputs": [],
   "source": [
    "import csv\n",
    "create_csv_submission(idx_te, y_pred_te, 'submission.csv')"
   ]
  },
  {
   "cell_type": "code",
   "execution_count": null,
   "metadata": {},
   "outputs": [],
   "source": []
  }
 ],
 "metadata": {
  "kernelspec": {
   "display_name": "Python 3",
   "language": "python",
   "name": "python3"
  },
  "language_info": {
   "codemirror_mode": {
    "name": "ipython",
    "version": 3
   },
   "file_extension": ".py",
   "mimetype": "text/x-python",
   "name": "python",
   "nbconvert_exporter": "python",
   "pygments_lexer": "ipython3",
   "version": "3.6.5"
  }
 },
 "nbformat": 4,
 "nbformat_minor": 2
}
