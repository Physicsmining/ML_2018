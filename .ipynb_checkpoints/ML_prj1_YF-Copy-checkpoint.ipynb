{
 "cells": [
  {
   "cell_type": "code",
   "execution_count": 1,
   "metadata": {},
   "outputs": [],
   "source": [
    "import numpy as np\n",
    "import matplotlib.pyplot as plt\n",
    "import pandas as pd # remove when finished\n",
    "from implementations import *"
   ]
  },
  {
   "cell_type": "code",
   "execution_count": 2,
   "metadata": {},
   "outputs": [],
   "source": [
    "data_tr = pd.read_csv('data/train.csv')\n",
    "idx_tr = data_tr.Id"
   ]
  },
  {
   "cell_type": "code",
   "execution_count": 3,
   "metadata": {},
   "outputs": [],
   "source": [
    "features_names = data_tr.columns.drop(['Id','Prediction'])\n",
    "# features_names"
   ]
  },
  {
   "cell_type": "code",
   "execution_count": 4,
   "metadata": {},
   "outputs": [],
   "source": [
    "def missing_rate(data):\n",
    "    features = data.columns.drop(['Id','Prediction'])\n",
    "    df_ = pd.DataFrame({'idx':[np.nan]})\n",
    "    for feature in features:\n",
    "        data2 = data.loc[(data[feature]==-999)].copy()\n",
    "        missing_rate = data2[feature].size/data[feature].size\n",
    "        df1 = pd.DataFrame({feature:[missing_rate]})\n",
    "        df_ = pd.concat([df_,df1],axis=1)\n",
    "    df_ = df_.drop(columns='idx')\n",
    "    df_ = df_.T.rename(columns={0:'rate'})\n",
    "    return df_"
   ]
  },
  {
   "cell_type": "code",
   "execution_count": 5,
   "metadata": {},
   "outputs": [],
   "source": [
    "def drop_columns(df_miss):\n",
    "    names_70 = list(df_miss.loc[df_miss.rate==0.709828].index)\n",
    "    names_30 = list(df_miss.loc[df_miss.rate==0.399652].index)\n",
    "    names_phi = list(['PRI_jet_leading_phi','PRI_jet_subleading_phi','PRI_lep_phi','PRI_met_phi','PRI_tau_phi','PRI_jet_num'])\n",
    "    corr0 = list(['DER_mass_MMC','DER_pt_tot','PRI_tau_pt','PRI_lep_pt'])\n",
    "    corr1_2 = list(['DER_mass_MMC','DER_pt_h', 'DER_sum_pt', 'PRI_met_sumet','PRI_jet_all_pt','PRI_lep_pt'])\n",
    "    df_drop_name = {'names_70':names_70,'names_30':names_30,'names_phi':names_phi,'corr0':corr0,'corr1_2':corr1_2}\n",
    "    \n",
    "    return df_drop_name"
   ]
  },
  {
   "cell_type": "code",
   "execution_count": 6,
   "metadata": {
    "scrolled": true
   },
   "outputs": [
    {
     "data": {
      "text/html": [
       "<div>\n",
       "<style scoped>\n",
       "    .dataframe tbody tr th:only-of-type {\n",
       "        vertical-align: middle;\n",
       "    }\n",
       "\n",
       "    .dataframe tbody tr th {\n",
       "        vertical-align: top;\n",
       "    }\n",
       "\n",
       "    .dataframe thead th {\n",
       "        text-align: right;\n",
       "    }\n",
       "</style>\n",
       "<table border=\"1\" class=\"dataframe\">\n",
       "  <thead>\n",
       "    <tr style=\"text-align: right;\">\n",
       "      <th></th>\n",
       "      <th>rate</th>\n",
       "    </tr>\n",
       "  </thead>\n",
       "  <tbody>\n",
       "    <tr>\n",
       "      <th>DER_mass_MMC</th>\n",
       "      <td>0.152456</td>\n",
       "    </tr>\n",
       "    <tr>\n",
       "      <th>DER_mass_transverse_met_lep</th>\n",
       "      <td>0.000000</td>\n",
       "    </tr>\n",
       "    <tr>\n",
       "      <th>DER_mass_vis</th>\n",
       "      <td>0.000000</td>\n",
       "    </tr>\n",
       "    <tr>\n",
       "      <th>DER_pt_h</th>\n",
       "      <td>0.000000</td>\n",
       "    </tr>\n",
       "    <tr>\n",
       "      <th>DER_deltaeta_jet_jet</th>\n",
       "      <td>0.709828</td>\n",
       "    </tr>\n",
       "    <tr>\n",
       "      <th>DER_mass_jet_jet</th>\n",
       "      <td>0.709828</td>\n",
       "    </tr>\n",
       "    <tr>\n",
       "      <th>DER_prodeta_jet_jet</th>\n",
       "      <td>0.709828</td>\n",
       "    </tr>\n",
       "    <tr>\n",
       "      <th>DER_deltar_tau_lep</th>\n",
       "      <td>0.000000</td>\n",
       "    </tr>\n",
       "    <tr>\n",
       "      <th>DER_pt_tot</th>\n",
       "      <td>0.000000</td>\n",
       "    </tr>\n",
       "    <tr>\n",
       "      <th>DER_sum_pt</th>\n",
       "      <td>0.000000</td>\n",
       "    </tr>\n",
       "    <tr>\n",
       "      <th>DER_pt_ratio_lep_tau</th>\n",
       "      <td>0.000000</td>\n",
       "    </tr>\n",
       "    <tr>\n",
       "      <th>DER_met_phi_centrality</th>\n",
       "      <td>0.000000</td>\n",
       "    </tr>\n",
       "    <tr>\n",
       "      <th>DER_lep_eta_centrality</th>\n",
       "      <td>0.709828</td>\n",
       "    </tr>\n",
       "    <tr>\n",
       "      <th>PRI_tau_pt</th>\n",
       "      <td>0.000000</td>\n",
       "    </tr>\n",
       "    <tr>\n",
       "      <th>PRI_tau_eta</th>\n",
       "      <td>0.000000</td>\n",
       "    </tr>\n",
       "    <tr>\n",
       "      <th>PRI_tau_phi</th>\n",
       "      <td>0.000000</td>\n",
       "    </tr>\n",
       "    <tr>\n",
       "      <th>PRI_lep_pt</th>\n",
       "      <td>0.000000</td>\n",
       "    </tr>\n",
       "    <tr>\n",
       "      <th>PRI_lep_eta</th>\n",
       "      <td>0.000000</td>\n",
       "    </tr>\n",
       "    <tr>\n",
       "      <th>PRI_lep_phi</th>\n",
       "      <td>0.000000</td>\n",
       "    </tr>\n",
       "    <tr>\n",
       "      <th>PRI_met</th>\n",
       "      <td>0.000000</td>\n",
       "    </tr>\n",
       "    <tr>\n",
       "      <th>PRI_met_phi</th>\n",
       "      <td>0.000000</td>\n",
       "    </tr>\n",
       "    <tr>\n",
       "      <th>PRI_met_sumet</th>\n",
       "      <td>0.000000</td>\n",
       "    </tr>\n",
       "    <tr>\n",
       "      <th>PRI_jet_num</th>\n",
       "      <td>0.000000</td>\n",
       "    </tr>\n",
       "    <tr>\n",
       "      <th>PRI_jet_leading_pt</th>\n",
       "      <td>0.399652</td>\n",
       "    </tr>\n",
       "    <tr>\n",
       "      <th>PRI_jet_leading_eta</th>\n",
       "      <td>0.399652</td>\n",
       "    </tr>\n",
       "    <tr>\n",
       "      <th>PRI_jet_leading_phi</th>\n",
       "      <td>0.399652</td>\n",
       "    </tr>\n",
       "    <tr>\n",
       "      <th>PRI_jet_subleading_pt</th>\n",
       "      <td>0.709828</td>\n",
       "    </tr>\n",
       "    <tr>\n",
       "      <th>PRI_jet_subleading_eta</th>\n",
       "      <td>0.709828</td>\n",
       "    </tr>\n",
       "    <tr>\n",
       "      <th>PRI_jet_subleading_phi</th>\n",
       "      <td>0.709828</td>\n",
       "    </tr>\n",
       "    <tr>\n",
       "      <th>PRI_jet_all_pt</th>\n",
       "      <td>0.000000</td>\n",
       "    </tr>\n",
       "  </tbody>\n",
       "</table>\n",
       "</div>"
      ],
      "text/plain": [
       "                                 rate\n",
       "DER_mass_MMC                 0.152456\n",
       "DER_mass_transverse_met_lep  0.000000\n",
       "DER_mass_vis                 0.000000\n",
       "DER_pt_h                     0.000000\n",
       "DER_deltaeta_jet_jet         0.709828\n",
       "DER_mass_jet_jet             0.709828\n",
       "DER_prodeta_jet_jet          0.709828\n",
       "DER_deltar_tau_lep           0.000000\n",
       "DER_pt_tot                   0.000000\n",
       "DER_sum_pt                   0.000000\n",
       "DER_pt_ratio_lep_tau         0.000000\n",
       "DER_met_phi_centrality       0.000000\n",
       "DER_lep_eta_centrality       0.709828\n",
       "PRI_tau_pt                   0.000000\n",
       "PRI_tau_eta                  0.000000\n",
       "PRI_tau_phi                  0.000000\n",
       "PRI_lep_pt                   0.000000\n",
       "PRI_lep_eta                  0.000000\n",
       "PRI_lep_phi                  0.000000\n",
       "PRI_met                      0.000000\n",
       "PRI_met_phi                  0.000000\n",
       "PRI_met_sumet                0.000000\n",
       "PRI_jet_num                  0.000000\n",
       "PRI_jet_leading_pt           0.399652\n",
       "PRI_jet_leading_eta          0.399652\n",
       "PRI_jet_leading_phi          0.399652\n",
       "PRI_jet_subleading_pt        0.709828\n",
       "PRI_jet_subleading_eta       0.709828\n",
       "PRI_jet_subleading_phi       0.709828\n",
       "PRI_jet_all_pt               0.000000"
      ]
     },
     "execution_count": 6,
     "metadata": {},
     "output_type": "execute_result"
    }
   ],
   "source": [
    "df_miss_tr = missing_rate(data_tr)\n",
    "df_miss_tr"
   ]
  },
  {
   "cell_type": "code",
   "execution_count": 7,
   "metadata": {
    "scrolled": true
   },
   "outputs": [],
   "source": [
    "# replacing the -999 with mode in signal or background\n",
    "\n",
    "DER_mode_s = data_tr.loc[(data_tr['DER_mass_MMC']!=-999)].loc[(data_tr['Prediction'])=='s']['DER_mass_MMC'].value_counts().index[0]#mean(axis=0)\n",
    "DER_mode_b = data_tr.loc[(data_tr['DER_mass_MMC']!=-999)].loc[(data_tr['Prediction'])=='b']['DER_mass_MMC'].value_counts().index[0]#value_counts().index[0]\n",
    "\n",
    "idx_s = data_tr.loc[(data_tr['DER_mass_MMC']==-999)].loc[(data_tr['Prediction'])=='s']['DER_mass_MMC'].index\n",
    "idx_b = data_tr.loc[(data_tr['DER_mass_MMC']==-999)].loc[(data_tr['Prediction'])=='b']['DER_mass_MMC'].index\n",
    "\n",
    "data_tr.loc[idx_s,'DER_mass_MMC']=DER_mode_s\n",
    "data_tr.loc[idx_b,'DER_mass_MMC']=DER_mode_b\n"
   ]
  },
  {
   "cell_type": "code",
   "execution_count": 8,
   "metadata": {},
   "outputs": [
    {
     "data": {
      "text/plain": [
       "{'names_70': ['DER_deltaeta_jet_jet',\n",
       "  'DER_mass_jet_jet',\n",
       "  'DER_prodeta_jet_jet',\n",
       "  'DER_lep_eta_centrality',\n",
       "  'PRI_jet_subleading_pt',\n",
       "  'PRI_jet_subleading_eta',\n",
       "  'PRI_jet_subleading_phi'],\n",
       " 'names_30': ['PRI_jet_leading_pt',\n",
       "  'PRI_jet_leading_eta',\n",
       "  'PRI_jet_leading_phi'],\n",
       " 'names_phi': ['PRI_jet_leading_phi',\n",
       "  'PRI_jet_subleading_phi',\n",
       "  'PRI_lep_phi',\n",
       "  'PRI_met_phi',\n",
       "  'PRI_tau_phi',\n",
       "  'PRI_jet_num'],\n",
       " 'corr0': ['DER_mass_MMC', 'DER_pt_tot', 'PRI_tau_pt', 'PRI_lep_pt'],\n",
       " 'corr1_2': ['DER_mass_MMC',\n",
       "  'DER_pt_h',\n",
       "  'DER_sum_pt',\n",
       "  'PRI_met_sumet',\n",
       "  'PRI_jet_all_pt',\n",
       "  'PRI_lep_pt']}"
      ]
     },
     "execution_count": 8,
     "metadata": {},
     "output_type": "execute_result"
    }
   ],
   "source": [
    "drop_col = drop_columns(df_miss_tr)\n",
    "drop_col\n",
    "# ['DER_mass_MMC']['DER_pt_tot'][('DER_sum_pt', )'PRI_tau_pt', 'PRI_lep_pt']\n",
    "# \n",
    "\n",
    "# ['DER_mass_MMC']['DER_pt_h', 'DER_sum_pt', 'PRI_met_sumet', ('PRI_jet_leading_pt'),'PRI_jet_all_pt']\n",
    "# ['DER_pt_ratio_lep_tau', 'PRI_lep_pt']\n",
    "\n",
    "# ['DER_mass_MMC']['DER_pt_h', 'DER_sum_pt', 'PRI_met_sumet', 'PRI_jet_leading_pt','PRI_jet_all_pt']\n",
    "# [('DER_pt_ratio_lep_tau'), 'PRI_lep_pt']\n",
    "\n",
    "# PRI_jet_leading_pt DER_sum_pt\n",
    "\n",
    "# list1 = list(['DER_mass_MMC', 'DER_mass_vis','DER_pt_h', 'DER_pt_tot','DER_sum_pt','PRI_tau_pt','PRI_lep_pt'])\n",
    "\n",
    "# list2 = list(['DER_mass_MMC', 'DER_mass_vis','DER_pt_h', 'DER_sum_pt', 'PRI_met_sumet', 'PRI_jet_leading_pt','PRI_jet_all_pt','DER_pt_ratio_lep_tau', 'PRI_lep_pt'])\n",
    "\n",
    "# test = list(set(list1+list2))\n",
    "# data_tr.loc[data_tr['Prediction']=='s'].describe()[test]-data_tr.loc[data_tr['Prediction']=='b'].describe()[test]\n",
    "# ['DER_mass_MMC', 'DER_mass_vis']['DER_pt_h', 'DER_sum_pt', 'PRI_met_sumet', 'PRI_jet_leading_pt','PRI_jet_all_pt']\n",
    "# ['DER_pt_ratio_lep_tau', 'PRI_lep_pt']\n"
   ]
  },
  {
   "cell_type": "markdown",
   "metadata": {},
   "source": [
    "'DER_deltaeta_jet_jet','DER_mass_jet_jet','DER_prodeta_jet_jet','DER_lep_eta_centrality','PRI_jet_subleading_pt','PRI_jet_subleading_eta','PRI_jet_subleading_phi': missing rate = 70.9% (PRI_jet_num <= 1)\n",
    "\n",
    "'PRI_jet_leading_pt','PRI_jet_leading_eta','PRI_jet_leading_phi': missing rate = 39.9% (PRI_jet_num = 0)"
   ]
  },
  {
   "cell_type": "code",
   "execution_count": 9,
   "metadata": {},
   "outputs": [],
   "source": [
    "def group_features_by_jet(df):\n",
    "    return {  \n",
    "        0: df.loc[df['PRI_jet_num'] == 0].copy(),\n",
    "        1: df.loc[df['PRI_jet_num'] == 1].copy(),\n",
    "        2: df.loc[(df['PRI_jet_num'] == 2) | (df['PRI_jet_num'] == 3)].copy(),\n",
    "    }"
   ]
  },
  {
   "cell_type": "code",
   "execution_count": 10,
   "metadata": {},
   "outputs": [],
   "source": [
    "feature_tr_grp = group_features_by_jet(data_tr)"
   ]
  },
  {
   "cell_type": "code",
   "execution_count": 11,
   "metadata": {},
   "outputs": [],
   "source": [
    "feature_tr_grp[0] = feature_tr_grp[0].drop(columns = list(set(drop_col['names_phi']+drop_col['names_70']+drop_col['names_30']+drop_col['corr0'])))\n",
    "feature_tr_grp[0] = feature_tr_grp[0].drop(columns = 'PRI_jet_all_pt')# all 0s\n",
    "feature_tr_grp[1] = feature_tr_grp[1].drop(columns = list(set(drop_col['names_phi']+drop_col['names_70']+drop_col['corr1_2'])))\n",
    "feature_tr_grp[2] = feature_tr_grp[2].drop(columns = list(set(drop_col['names_phi']+drop_col['corr1_2'])))"
   ]
  },
  {
   "cell_type": "code",
   "execution_count": 136,
   "metadata": {},
   "outputs": [],
   "source": [
    "# corr0 = feature_tr_grp[0].corr()\n",
    "# # corr0.DER_mass_MMC.loc(corr0.DER_mass_MMC.values>0.7)\n",
    "# corr0_list = []\n",
    "# for feature in corr0.index:\n",
    "#     corr0_list.append(corr0.loc[(corr0[feature]>0.7) | (corr0[feature]<-0.7)].index)\n",
    "# corr0_list\n",
    "#['DER_mass_MMC', 'DER_mass_vis']['DER_pt_h', 'DER_pt_tot']['DER_sum_pt', 'PRI_tau_pt', 'PRI_lep_pt']"
   ]
  },
  {
   "cell_type": "code",
   "execution_count": 135,
   "metadata": {},
   "outputs": [],
   "source": [
    "# corr1 = feature_tr_grp[1].corr()\n",
    "# corr1_list = []\n",
    "# for feature in corr1.index:\n",
    "#     corr1_list.append(corr1.loc[(corr1[feature]>0.7) | (corr1[feature]<-0.7)].index)\n",
    "# corr1\n",
    "# ['DER_mass_MMC', 'DER_mass_vis']['DER_pt_h', 'DER_sum_pt', 'PRI_met_sumet', 'PRI_jet_leading_pt','PRI_jet_all_pt']\n",
    "# ['DER_pt_ratio_lep_tau', 'PRI_lep_pt']"
   ]
  },
  {
   "cell_type": "code",
   "execution_count": 134,
   "metadata": {},
   "outputs": [],
   "source": [
    "# corr2 = feature_tr_grp[2].corr()\n",
    "# corr2_list = []\n",
    "# for feature in corr1.index:\n",
    "#     corr2_list.append(corr1.loc[(corr2[feature]>0.7) | (corr2[feature]<-0.7)].index)\n",
    "# corr2_list\n",
    "# ['DER_mass_MMC', 'DER_mass_vis']['DER_pt_h', 'DER_sum_pt', 'PRI_met', 'PRI_jet_leading_pt']['DER_pt_h', 'DER_sum_pt', 'PRI_met_sumet', 'PRI_jet_leading_pt','PRI_jet_all_pt']\n",
    "# ['DER_pt_ratio_lep_tau', 'PRI_lep_pt']"
   ]
  },
  {
   "cell_type": "code",
   "execution_count": 12,
   "metadata": {},
   "outputs": [],
   "source": [
    "# for df['PRI_jet_num'] == 0\n",
    "# x_tr0,mean0,std0 = standardize(feature_tr_grp[0].drop(columns = ['Id','Prediction']).values)\n",
    "# y_tr0 = feature_tr_grp[0].Prediction.replace(['s','b'],[1,-1]).values\n",
    "# w0 = least_squares(y_tr0,x_tr0)\n",
    "# idx_tr0 = feature_tr_grp[0].Id\n",
    "# y_pred_tr0 = predict_labels(w0, x_tr0)\n"
   ]
  },
  {
   "cell_type": "code",
   "execution_count": 13,
   "metadata": {},
   "outputs": [],
   "source": [
    "# for df['PRI_jet_num'] == 1\n",
    "# x_tr1,_,_ = standardize(feature_tr_grp[1].drop(columns = ['Id','Prediction']).values)\n",
    "# y_tr1 = feature_tr_grp[1].Prediction.replace(['s','b'],[1,-1]).values\n",
    "# w1 = least_squares(y_tr1,x_tr1)\n",
    "# idx_tr1 = feature_tr_grp[1].Id\n",
    "# y_pred_tr1 = predict_labels(w1, x_tr1)\n"
   ]
  },
  {
   "cell_type": "code",
   "execution_count": 14,
   "metadata": {},
   "outputs": [],
   "source": [
    "# for df['PRI_jet_num'] == 2,3\n",
    "# x_tr2,_,_ = standardize(feature_tr_grp[2].drop(columns = ['Id','Prediction']).values)\n",
    "# y_tr2 = feature_tr_grp[2].Prediction.replace(['s','b'],[1,-1]).values\n",
    "# w2 = least_squares(y_tr2,x_tr2)\n",
    "# idx_tr2 = feature_tr_grp[2].Id\n",
    "# y_pred_tr2 = predict_labels(w2, x_tr2)"
   ]
  },
  {
   "cell_type": "code",
   "execution_count": 15,
   "metadata": {},
   "outputs": [],
   "source": [
    "# create_csv_submission(idx_te, y_pred_te, 'submission.csv')"
   ]
  },
  {
   "cell_type": "code",
   "execution_count": 20,
   "metadata": {
    "scrolled": true
   },
   "outputs": [
    {
     "name": "stdout",
     "output_type": "stream",
     "text": [
      "lambda = 1e-10: Training accuracy: 0.7962172230978649 - Test accuracy : 0.794738199638896\n",
      "lambda = 4.281332398719396e-10: Training accuracy: 0.7959163203897406 - Test accuracy : 0.7943641991230332\n",
      "lambda = 1.8329807108324374e-09: Training accuracy: 0.7958876629889668 - Test accuracy : 0.7941062677327831\n",
      "lambda = 7.847599703514623e-09: Training accuracy: 0.7956612695228543 - Test accuracy : 0.7940159917461955\n",
      "lambda = 3.3598182862837814e-08: Training accuracy: 0.795048001146296 - Test accuracy : 0.7933195769925199\n",
      "lambda = 1.438449888287663e-07: Training accuracy: 0.793576443616564 - Test accuracy : 0.7919654371937066\n",
      "lambda = 6.158482110660254e-07: Training accuracy: 0.7906218655967904 - Test accuracy : 0.7891797781790044\n",
      "lambda = 2.6366508987303555e-06: Training accuracy: 0.7880283708267661 - Test accuracy : 0.7868068093887025\n",
      "lambda = 1.1288378916846883e-05: Training accuracy: 0.7855724315804558 - Test accuracy : 0.7845757028630385\n",
      "lambda = 4.8329302385717524e-05: Training accuracy: 0.7834216936523857 - Test accuracy : 0.7823316997678618\n",
      "lambda = 0.00020691380811147902: Training accuracy: 0.7813798538472561 - Test accuracy : 0.7807712148568481\n",
      "lambda = 0.0008858667904100814: Training accuracy: 0.778945407651526 - Test accuracy : 0.7777792107299458\n",
      "lambda = 0.003792690190732246: Training accuracy: 0.7760438458231838 - Test accuracy : 0.7748387928810936\n",
      "lambda = 0.016237767391887176: Training accuracy: 0.7701891388451069 - Test accuracy : 0.7691771988651019\n",
      "lambda = 0.0695192796177559: Training accuracy: 0.7622682332712423 - Test accuracy : 0.7614779468661336\n",
      "lambda = 0.2976351441631313: Training accuracy: 0.7487405072359936 - Test accuracy : 0.7483492391023988\n",
      "lambda = 1.2742749857031321: Training accuracy: 0.7185169795099584 - Test accuracy : 0.7184678875419138\n",
      "lambda = 5.455594781168514: Training accuracy: 0.694933371543201 - Test accuracy : 0.6948800619035337\n",
      "lambda = 23.357214690901213: Training accuracy: 0.6830233557816305 - Test accuracy : 0.6828733556873872\n",
      "lambda = 100.0: Training accuracy: 0.6791703682475999 - Test accuracy : 0.6789914882641218\n"
     ]
    }
   ],
   "source": [
    "k_fold = 10\n",
    "seed = 1\n",
    "lambdas = np.logspace(-10, 2, 20) \n",
    "\n",
    "for lambda_ in lambdas:\n",
    "    x = feature_tr_grp[1].drop(columns = ['Id','Prediction']).values\n",
    "    x = build_polynomial_features(x,10)\n",
    "    x_tr0,_,_ = standardize(x)\n",
    "    y_tr0 = feature_tr_grp[1].Prediction.replace(['s','b'],[1,-1]).values\n",
    "    w0,acc_tr0,acc_te0 = cv_loop(y_tr0, x_tr0,k_fold,seed,ridge_regression,lambda_=lambda_)\n",
    "    print(\"lambda = {}: Training accuracy: {} - Test accuracy : {}\".format(lambda_, acc_tr0, acc_te0))"
   ]
  },
  {
   "cell_type": "code",
   "execution_count": 17,
   "metadata": {},
   "outputs": [],
   "source": [
    "# ridge_regression using cv\n",
    "w = []\n",
    "acc_tr = []\n",
    "acc_te = []\n",
    "lambda_ = 1e-9#0.0001\n",
    "k_fold = 10\n",
    "seed = 10\n",
    "\n",
    "for i in range(len(feature_tr_grp)):\n",
    "    x = feature_tr_grp[i].drop(columns = ['Id','Prediction']).values\n",
    "    x = build_polynomial_features(x,10)\n",
    "    x_tr,_,_ = standardize(x)\n",
    "    y_tr = feature_tr_grp[i].Prediction.replace(['s','b'],[1,-1]).values\n",
    "    w_tmp,acc_tr_tmp,acc_te_tmp = cv_loop(y_tr, x_tr,k_fold,seed,ridge_regression,lambda_=lambda_)\n",
    "    w.append(w_tmp)\n",
    "    acc_tr.append(acc_tr_tmp)\n",
    "    acc_te.append(acc_te_tmp)"
   ]
  },
  {
   "cell_type": "code",
   "execution_count": 18,
   "metadata": {},
   "outputs": [
    {
     "data": {
      "text/plain": [
       "[0.8424501234403149, 0.7959822324115203, 0.815345617179004]"
      ]
     },
     "execution_count": 18,
     "metadata": {},
     "output_type": "execute_result"
    }
   ],
   "source": [
    "acc_tr # degree = 10 lambda = 1e-9"
   ]
  },
  {
   "cell_type": "code",
   "execution_count": 19,
   "metadata": {},
   "outputs": [
    {
     "data": {
      "text/plain": [
       "[0.8420078070263237, 0.7944415785401083, 0.8130962227736422]"
      ]
     },
     "execution_count": 19,
     "metadata": {},
     "output_type": "execute_result"
    }
   ],
   "source": [
    "acc_te"
   ]
  },
  {
   "cell_type": "code",
   "execution_count": 13,
   "metadata": {},
   "outputs": [
    {
     "data": {
      "text/plain": [
       "[0.8372934320855853, 0.7823169508525577, 0.7990427177625634]"
      ]
     },
     "execution_count": 13,
     "metadata": {},
     "output_type": "execute_result"
    }
   ],
   "source": [
    "acc_tr # degree = 10 lambda = 0.0001"
   ]
  },
  {
   "cell_type": "code",
   "execution_count": 14,
   "metadata": {},
   "outputs": [
    {
     "data": {
      "text/plain": [
       "[0.8369632669402461, 0.7813644570544235, 0.7967466225530742]"
      ]
     },
     "execution_count": 14,
     "metadata": {},
     "output_type": "execute_result"
    }
   ],
   "source": [
    "acc_te"
   ]
  },
  {
   "cell_type": "code",
   "execution_count": 72,
   "metadata": {},
   "outputs": [
    {
     "data": {
      "text/plain": [
       "[0.8366195146905095, 0.7768992692362803, 0.7961050100323178]"
      ]
     },
     "execution_count": 72,
     "metadata": {},
     "output_type": "execute_result"
    }
   ],
   "source": [
    "acc_tr # degree = 3 lambda = 0.0001"
   ]
  },
  {
   "cell_type": "code",
   "execution_count": 73,
   "metadata": {},
   "outputs": [
    {
     "data": {
      "text/plain": [
       "[0.8361725552997697, 0.7757544493164819, 0.7944582299421008]"
      ]
     },
     "execution_count": 73,
     "metadata": {},
     "output_type": "execute_result"
    }
   ],
   "source": [
    "acc_te"
   ]
  },
  {
   "cell_type": "code",
   "execution_count": 66,
   "metadata": {},
   "outputs": [
    {
     "name": "stdout",
     "output_type": "stream",
     "text": [
      "Current gamma=0.001, loss=-1096583.1203274755, acc = [0.8175913]\n",
      "Current gamma=0.001, loss=-418852.1834413469, acc = [0.73377695]\n",
      "Current gamma=0.001, loss=-177988.18851396453, acc = [0.72118606]\n"
     ]
    }
   ],
   "source": [
    "k_fold = 10\n",
    "seed = 10\n",
    "max_iters = 200\n",
    "gammas = [0.001,0.01,0.1,0.5,1,1.5,2]\n",
    "gamma = 0.001\n",
    "\n",
    "for i in range(len(feature_tr_grp)):\n",
    "    x = feature_tr_grp[i].drop(columns = ['Id','Prediction']).values\n",
    "    x = build_polynomial_features(x,2)\n",
    "    x_tr,_,_ = standardize(x)\n",
    "    x_tr = np.hstack((np.ones((x_tr.shape[0], 1)), x_tr))\n",
    "    y_tr = feature_tr_grp[i].Prediction.replace(['s','b'],[1,-1]).values\n",
    "\n",
    "    loss,w = logistic_regression_GD(y_tr, x_tr, max_iters, gamma = 0.001)\n",
    "    y_tr = y_tr.reshape(len(y_tr),1)\n",
    "    y_tr_pred = predict_labels(w, x_tr)\n",
    "    acc_tr = compute_accuracy(y_tr_pred,y_tr)\n",
    "    print(\"Current gamma={i}, loss={l}, acc = {a}\".format(i=gamma, l=loss,a = acc_tr))\n",
    "\n",
    "\n",
    "\n",
    "# k_indices = build_k_indices(y_tr, k_fold = 4, seed = 10)\n",
    "# k = 0\n",
    "# test_idx = k_indices[k]\n",
    "# train_idx = list(set(np.arange(0,len(y_tr)))-set(k_indices[k]))\n",
    "# [x_train,y_train,x_test,y_test] = [x_tr[train_idx], y_tr[train_idx], x_tr[test_idx], y_tr[test_idx]]\n",
    "# w_tmp,acc_tr_tmp,acc_te_tmp = cv_loop(y_tr, x_tr,k_fold,seed,logistic_regression_GD, max_iters=100, gamma=gamma)"
   ]
  },
  {
   "cell_type": "code",
   "execution_count": 50,
   "metadata": {},
   "outputs": [],
   "source": [
    "def build_polynomial_features(x, degree):\n",
    "    temp_dict = {}\n",
    "    count = 0\n",
    "    for i in range(x.shape[1]):\n",
    "        for j in range(i+1,x.shape[1]):\n",
    "            temp = x[:,i] * x[:,j]\n",
    "            temp_dict[count] = [temp]\n",
    "            count += 1\n",
    "    poly_length = x.shape[1] * (degree + 1) + count# + 1\n",
    "    poly = np.zeros(shape = (x.shape[0], poly_length))\n",
    "    for deg in range(1,degree+1):\n",
    "        for i in range(x.shape[1]):\n",
    "            poly[:,i + (deg-1) * x.shape[1]] = np.power(x[:,i],deg)\n",
    "    for i in range(count):\n",
    "        poly[:, x.shape[1] * degree + i] = temp_dict[i][0]\n",
    "    for i in range(x.shape[1]):\n",
    "        poly[:,i + x.shape[1] * degree + count] = np.abs(x[:,i])**0.5\n",
    "    return poly"
   ]
  },
  {
   "cell_type": "code",
   "execution_count": 27,
   "metadata": {},
   "outputs": [],
   "source": [
    "k_indices = build_k_indices(y_tr, k_fold = 1000, seed = 10)\n",
    "k = 0\n",
    "test_idx = k_indices[k]\n",
    "train_idx = list(set(np.arange(0,len(y_tr)))-set(k_indices[k]))\n",
    "[x_train,y_train,x_test,y_test] = [x_tr[train_idx], y_tr[train_idx], x_tr[test_idx], y_tr[test_idx]]\n",
    "# w_tmp,acc_tr_tmp,acc_te_tmp = cv_loop(y_tr, x_tr,k_fold,seed,logistic_regression_GD, max_iters=100, gamma=gamma)"
   ]
  },
  {
   "cell_type": "code",
   "execution_count": 51,
   "metadata": {},
   "outputs": [
    {
     "data": {
      "text/plain": [
       "array([[-1,  4,  9]])"
      ]
     },
     "execution_count": 51,
     "metadata": {},
     "output_type": "execute_result"
    }
   ],
   "source": [
    "test = np.array([[-1,4,9]])\n",
    "test"
   ]
  },
  {
   "cell_type": "code",
   "execution_count": 52,
   "metadata": {},
   "outputs": [
    {
     "data": {
      "text/plain": [
       "array([[-1.,  4.,  9.,  1., 16., 81., -4., -9., 36.,  1.,  2.,  3.]])"
      ]
     },
     "execution_count": 52,
     "metadata": {},
     "output_type": "execute_result"
    }
   ],
   "source": [
    "build_polynomial_features(test, 2)"
   ]
  },
  {
   "cell_type": "code",
   "execution_count": 53,
   "metadata": {},
   "outputs": [],
   "source": [
    "x = feature_tr_grp[2].drop(columns = ['Id','Prediction']).values\n",
    "x_tr = build_polynomial_features(x,3)\n"
   ]
  }
 ],
 "metadata": {
  "kernelspec": {
   "display_name": "Python 3",
   "language": "python",
   "name": "python3"
  },
  "language_info": {
   "codemirror_mode": {
    "name": "ipython",
    "version": 3
   },
   "file_extension": ".py",
   "mimetype": "text/x-python",
   "name": "python",
   "nbconvert_exporter": "python",
   "pygments_lexer": "ipython3",
   "version": "3.6.5"
  }
 },
 "nbformat": 4,
 "nbformat_minor": 2
}
