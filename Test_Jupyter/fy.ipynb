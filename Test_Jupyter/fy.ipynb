{
 "cells": [
  {
   "cell_type": "code",
   "execution_count": 1,
   "metadata": {},
   "outputs": [],
   "source": [
    "import numpy as np\n",
    "import matplotlib.pyplot as plt\n",
    "import pandas as pd # remove when finished\n",
    "from implementations import *\n",
    "from tools import *\n",
    "from helpers import *"
   ]
  },
  {
   "cell_type": "code",
   "execution_count": 2,
   "metadata": {},
   "outputs": [],
   "source": [
    "data_tr = pd.read_csv('data/train.csv')\n",
    "data_te = pd.read_csv('data/test.csv')\n",
    "idx_tr = data_tr.Id\n",
    "idx_te = data_te.Id\n"
   ]
  },
  {
   "cell_type": "code",
   "execution_count": 3,
   "metadata": {},
   "outputs": [],
   "source": [
    "features_names = data_tr.columns.drop(['Id','Prediction'])"
   ]
  },
  {
   "cell_type": "code",
   "execution_count": 4,
   "metadata": {},
   "outputs": [],
   "source": [
    "\n",
    "# replacing the -999 with mode in signal or background\n",
    "\n",
    "DER_mode_s = data_tr.loc[(data_tr['DER_mass_MMC']!=-999)].loc[(data_tr['Prediction'])=='s']['DER_mass_MMC'].value_counts().index[0]#value_counts().index[0]\n",
    "DER_mode_b = data_tr.loc[(data_tr['DER_mass_MMC']!=-999)].loc[(data_tr['Prediction'])=='b']['DER_mass_MMC'].value_counts().index[0]#mean(axis=0)\n",
    "\n",
    "idx_s = data_tr.loc[(data_tr['DER_mass_MMC']==-999)].loc[(data_tr['Prediction'])=='s']['DER_mass_MMC'].index\n",
    "idx_b = data_tr.loc[(data_tr['DER_mass_MMC']==-999)].loc[(data_tr['Prediction'])=='b']['DER_mass_MMC'].index\n",
    "\n",
    "data_tr.loc[idx_s,'DER_mass_MMC']=DER_mode_s\n",
    "data_tr.loc[idx_b,'DER_mass_MMC']=DER_mode_b"
   ]
  },
  {
   "cell_type": "code",
   "execution_count": 5,
   "metadata": {},
   "outputs": [],
   "source": [
    "DER_mode_te = data_te.loc[(data_te['DER_mass_MMC']!=-999)]['DER_mass_MMC'].value_counts().index[0]#mean(axis=0)\n",
    "idx_te = data_te.loc[(data_te['DER_mass_MMC']==-999)]['DER_mass_MMC'].index\n",
    "data_te.loc[idx_te,'DER_mass_MMC']=DER_mode_te"
   ]
  },
  {
   "cell_type": "code",
   "execution_count": 7,
   "metadata": {},
   "outputs": [
    {
     "data": {
      "text/plain": [
       "(86488,)"
      ]
     },
     "execution_count": 7,
     "metadata": {},
     "output_type": "execute_result"
    }
   ],
   "source": [
    "idx_te.shape"
   ]
  },
  {
   "cell_type": "code",
   "execution_count": null,
   "metadata": {},
   "outputs": [],
   "source": [
    "def group_features_by_jet(df):\n",
    "    return {  \n",
    "        0: df.loc[df['PRI_jet_num'] == 0].copy(),\n",
    "        1: df.loc[df['PRI_jet_num'] == 1].copy(),\n",
    "        2: df.loc[(df['PRI_jet_num'] == 2) | (df['PRI_jet_num'] == 3)].copy(),\n",
    "    }"
   ]
  },
  {
   "cell_type": "code",
   "execution_count": null,
   "metadata": {},
   "outputs": [],
   "source": [
    "feature_tr_grp = group_features_by_jet(data_tr)\n",
    "feature_te_grp = group_features_by_jet(data_te)"
   ]
  },
  {
   "cell_type": "code",
   "execution_count": null,
   "metadata": {},
   "outputs": [],
   "source": [
    "drop_col = {'names_70': ['DER_deltaeta_jet_jet',\n",
    "  'DER_mass_jet_jet',\n",
    "  'DER_prodeta_jet_jet',\n",
    "  'DER_lep_eta_centrality',\n",
    "  'PRI_jet_subleading_pt',\n",
    "  'PRI_jet_subleading_eta',\n",
    "  'PRI_jet_subleading_phi'],\n",
    " 'names_30': ['PRI_jet_leading_pt',\n",
    "  'PRI_jet_leading_eta',\n",
    "  'PRI_jet_leading_phi'],\n",
    " 'names_phi': ['PRI_jet_leading_phi',\n",
    "  'PRI_jet_subleading_phi',\n",
    "  'PRI_lep_phi',\n",
    "  'PRI_met_phi',\n",
    "  'PRI_tau_phi',\n",
    "  'PRI_jet_num'],\n",
    " 'corr0': ['DER_mass_MMC', 'DER_pt_tot', 'PRI_tau_pt', 'PRI_lep_pt'],\n",
    " 'corr1_2': ['DER_mass_MMC',\n",
    "  'DER_pt_h',\n",
    "  'DER_sum_pt',\n",
    "  'PRI_met_sumet',\n",
    "  'PRI_jet_all_pt',\n",
    "  'PRI_lep_pt']}"
   ]
  },
  {
   "cell_type": "code",
   "execution_count": null,
   "metadata": {},
   "outputs": [],
   "source": [
    "feature_tr_grp[0] = feature_tr_grp[0].drop(columns = list(set(drop_col['names_phi']+drop_col['names_70']+drop_col['names_30'])))\n",
    "feature_tr_grp[0] = feature_tr_grp[0].drop(columns = 'PRI_jet_all_pt')# all 0s\n",
    "feature_tr_grp[1] = feature_tr_grp[1].drop(columns = list(set(drop_col['names_phi']+drop_col['names_70'])))\n",
    "feature_tr_grp[2] = feature_tr_grp[2].drop(columns = list(set(drop_col['names_phi'])))\n",
    "\n",
    "feature_te_grp[0] = feature_te_grp[0].drop(columns = list(set(drop_col['names_phi']+drop_col['names_70']+drop_col['names_30'])))\n",
    "feature_te_grp[0] = feature_te_grp[0].drop(columns = 'PRI_jet_all_pt')# all 0s\n",
    "feature_te_grp[1] = feature_te_grp[1].drop(columns = list(set(drop_col['names_phi']+drop_col['names_70'])))\n",
    "feature_te_grp[2] = feature_te_grp[2].drop(columns = list(set(drop_col['names_phi'])))"
   ]
  },
  {
   "cell_type": "code",
   "execution_count": null,
   "metadata": {},
   "outputs": [],
   "source": [
    "a = feature_te_grp[0].drop(columns =['Id','Prediction'])\n",
    "a.shape"
   ]
  },
  {
   "cell_type": "code",
   "execution_count": null,
   "metadata": {
    "scrolled": true
   },
   "outputs": [],
   "source": [
    "a"
   ]
  },
  {
   "cell_type": "code",
   "execution_count": null,
   "metadata": {},
   "outputs": [],
   "source": [
    "feature_te_grp[1].drop(columns =['Id','Prediction'])"
   ]
  },
  {
   "cell_type": "code",
   "execution_count": null,
   "metadata": {},
   "outputs": [],
   "source": [
    "# ridge regression\n",
    "w = []\n",
    "acc_tr = []\n",
    "acc_te = []\n",
    "lambda_ = 0.001\n",
    "degrees = [11,10,11]\n",
    "k_fold = 10\n",
    "seed = 10\n",
    "y_te = []\n",
    "\n",
    "for i in range(len(feature_tr_grp)):\n",
    "    x = feature_tr_grp[i].drop(columns = ['Id','Prediction']).values\n",
    "    x = log_process(x)\n",
    "    x,_,_ = standardize(x)\n",
    "    x_tr = build_poly(x,degrees[i])\n",
    "    y_tr = feature_tr_grp[i].Prediction.replace(['s','b'],[1,-1]).values\n",
    "    w_tmp,acc_tr_tmp,acc_te_tmp = cv_loop(y_tr, x_tr,k_fold,seed,ridge_regression,lambda_=lambda_)\n",
    "    w.append(w_tmp)\n",
    "    acc_tr.append(acc_tr_tmp)\n",
    "    acc_te.append(acc_te_tmp)\n",
    "    \n",
    "    x = feature_te_grp[i].drop(columns = ['Id','Prediction']).values\n",
    "    x = log_process(x)\n",
    "    x,_,_ = standardize(x)\n",
    "    x_te = build_poly(x,degrees[i])\n",
    "    # x_te = np.hstack((np.ones((x_te.shape[0], 1)), x_te))\n",
    "    y_te.append(predict_labels(w[i], x_te))"
   ]
  },
  {
   "cell_type": "code",
   "execution_count": null,
   "metadata": {},
   "outputs": [],
   "source": [
    "acc_tr"
   ]
  },
  {
   "cell_type": "code",
   "execution_count": null,
   "metadata": {},
   "outputs": [],
   "source": [
    "y_pred_te = np.concatenate((y_te[0],y_te[1],y_te[2]))\n",
    "idx_te = np.concatenate((feature_te_grp[0].Id.values,feature_te_grp[1].Id.values,feature_te_grp[2].Id.values))"
   ]
  },
  {
   "cell_type": "code",
   "execution_count": null,
   "metadata": {},
   "outputs": [],
   "source": [
    "create_csv_submission(idx_te, y_pred_te, 'submission_ridge.csv')"
   ]
  },
  {
   "cell_type": "code",
   "execution_count": null,
   "metadata": {},
   "outputs": [],
   "source": [
    "idx_te"
   ]
  },
  {
   "cell_type": "code",
   "execution_count": null,
   "metadata": {},
   "outputs": [],
   "source": [
    " y_pred_te.shape"
   ]
  },
  {
   "cell_type": "code",
   "execution_count": null,
   "metadata": {},
   "outputs": [],
   "source": []
  }
 ],
 "metadata": {
  "kernelspec": {
   "display_name": "Python 3",
   "language": "python",
   "name": "python3"
  },
  "language_info": {
   "codemirror_mode": {
    "name": "ipython",
    "version": 3
   },
   "file_extension": ".py",
   "mimetype": "text/x-python",
   "name": "python",
   "nbconvert_exporter": "python",
   "pygments_lexer": "ipython3",
   "version": "3.6.5"
  }
 },
 "nbformat": 4,
 "nbformat_minor": 2
}
