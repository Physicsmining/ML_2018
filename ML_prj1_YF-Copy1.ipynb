{
 "cells": [
  {
   "cell_type": "code",
   "execution_count": 1,
   "metadata": {},
   "outputs": [],
   "source": [
    "import numpy as np\n",
    "import matplotlib.pyplot as plt\n",
    "import pandas as pd # remove when finished\n",
    "from implementations import *"
   ]
  },
  {
   "cell_type": "code",
   "execution_count": 2,
   "metadata": {},
   "outputs": [],
   "source": [
    "data_tr = pd.read_csv('data/train.csv')\n",
    "idx_tr = data_tr.Id"
   ]
  },
  {
   "cell_type": "code",
   "execution_count": 3,
   "metadata": {},
   "outputs": [],
   "source": [
    "features_names = data_tr.columns.drop(['Id','Prediction'])\n",
    "# features_names"
   ]
  },
  {
   "cell_type": "code",
   "execution_count": 4,
   "metadata": {},
   "outputs": [],
   "source": [
    "def missing_rate(data):\n",
    "    features = data.columns.drop(['Id','Prediction'])\n",
    "    df_ = pd.DataFrame({'idx':[np.nan]})\n",
    "    for feature in features:\n",
    "        data2 = data.loc[(data[feature]==-999)].copy()\n",
    "        missing_rate = data2[feature].size/data[feature].size\n",
    "        df1 = pd.DataFrame({feature:[missing_rate]})\n",
    "        df_ = pd.concat([df_,df1],axis=1)\n",
    "    df_ = df_.drop(columns='idx')\n",
    "    df_ = df_.T.rename(columns={0:'rate'})\n",
    "    return df_"
   ]
  },
  {
   "cell_type": "code",
   "execution_count": 5,
   "metadata": {},
   "outputs": [],
   "source": [
    "def drop_columns(df_miss):\n",
    "    names_70 = list(df_miss.loc[df_miss.rate==0.709828].index)\n",
    "    names_30 = list(df_miss.loc[df_miss.rate==0.399652].index)\n",
    "    names_phi = list(['PRI_jet_leading_phi','PRI_jet_subleading_phi','PRI_lep_phi','PRI_met_phi','PRI_tau_phi','PRI_jet_num'])\n",
    "    df_drop_name = {'names_70':names_70,'names_30':names_30,'names_phi':names_phi}\n",
    "    return df_drop_name"
   ]
  },
  {
   "cell_type": "code",
   "execution_count": 6,
   "metadata": {
    "scrolled": true
   },
   "outputs": [
    {
     "data": {
      "text/html": [
       "<div>\n",
       "<style scoped>\n",
       "    .dataframe tbody tr th:only-of-type {\n",
       "        vertical-align: middle;\n",
       "    }\n",
       "\n",
       "    .dataframe tbody tr th {\n",
       "        vertical-align: top;\n",
       "    }\n",
       "\n",
       "    .dataframe thead th {\n",
       "        text-align: right;\n",
       "    }\n",
       "</style>\n",
       "<table border=\"1\" class=\"dataframe\">\n",
       "  <thead>\n",
       "    <tr style=\"text-align: right;\">\n",
       "      <th></th>\n",
       "      <th>rate</th>\n",
       "    </tr>\n",
       "  </thead>\n",
       "  <tbody>\n",
       "    <tr>\n",
       "      <th>DER_mass_MMC</th>\n",
       "      <td>0.152456</td>\n",
       "    </tr>\n",
       "    <tr>\n",
       "      <th>DER_mass_transverse_met_lep</th>\n",
       "      <td>0.000000</td>\n",
       "    </tr>\n",
       "    <tr>\n",
       "      <th>DER_mass_vis</th>\n",
       "      <td>0.000000</td>\n",
       "    </tr>\n",
       "    <tr>\n",
       "      <th>DER_pt_h</th>\n",
       "      <td>0.000000</td>\n",
       "    </tr>\n",
       "    <tr>\n",
       "      <th>DER_deltaeta_jet_jet</th>\n",
       "      <td>0.709828</td>\n",
       "    </tr>\n",
       "    <tr>\n",
       "      <th>DER_mass_jet_jet</th>\n",
       "      <td>0.709828</td>\n",
       "    </tr>\n",
       "    <tr>\n",
       "      <th>DER_prodeta_jet_jet</th>\n",
       "      <td>0.709828</td>\n",
       "    </tr>\n",
       "    <tr>\n",
       "      <th>DER_deltar_tau_lep</th>\n",
       "      <td>0.000000</td>\n",
       "    </tr>\n",
       "    <tr>\n",
       "      <th>DER_pt_tot</th>\n",
       "      <td>0.000000</td>\n",
       "    </tr>\n",
       "    <tr>\n",
       "      <th>DER_sum_pt</th>\n",
       "      <td>0.000000</td>\n",
       "    </tr>\n",
       "    <tr>\n",
       "      <th>DER_pt_ratio_lep_tau</th>\n",
       "      <td>0.000000</td>\n",
       "    </tr>\n",
       "    <tr>\n",
       "      <th>DER_met_phi_centrality</th>\n",
       "      <td>0.000000</td>\n",
       "    </tr>\n",
       "    <tr>\n",
       "      <th>DER_lep_eta_centrality</th>\n",
       "      <td>0.709828</td>\n",
       "    </tr>\n",
       "    <tr>\n",
       "      <th>PRI_tau_pt</th>\n",
       "      <td>0.000000</td>\n",
       "    </tr>\n",
       "    <tr>\n",
       "      <th>PRI_tau_eta</th>\n",
       "      <td>0.000000</td>\n",
       "    </tr>\n",
       "    <tr>\n",
       "      <th>PRI_tau_phi</th>\n",
       "      <td>0.000000</td>\n",
       "    </tr>\n",
       "    <tr>\n",
       "      <th>PRI_lep_pt</th>\n",
       "      <td>0.000000</td>\n",
       "    </tr>\n",
       "    <tr>\n",
       "      <th>PRI_lep_eta</th>\n",
       "      <td>0.000000</td>\n",
       "    </tr>\n",
       "    <tr>\n",
       "      <th>PRI_lep_phi</th>\n",
       "      <td>0.000000</td>\n",
       "    </tr>\n",
       "    <tr>\n",
       "      <th>PRI_met</th>\n",
       "      <td>0.000000</td>\n",
       "    </tr>\n",
       "    <tr>\n",
       "      <th>PRI_met_phi</th>\n",
       "      <td>0.000000</td>\n",
       "    </tr>\n",
       "    <tr>\n",
       "      <th>PRI_met_sumet</th>\n",
       "      <td>0.000000</td>\n",
       "    </tr>\n",
       "    <tr>\n",
       "      <th>PRI_jet_num</th>\n",
       "      <td>0.000000</td>\n",
       "    </tr>\n",
       "    <tr>\n",
       "      <th>PRI_jet_leading_pt</th>\n",
       "      <td>0.399652</td>\n",
       "    </tr>\n",
       "    <tr>\n",
       "      <th>PRI_jet_leading_eta</th>\n",
       "      <td>0.399652</td>\n",
       "    </tr>\n",
       "    <tr>\n",
       "      <th>PRI_jet_leading_phi</th>\n",
       "      <td>0.399652</td>\n",
       "    </tr>\n",
       "    <tr>\n",
       "      <th>PRI_jet_subleading_pt</th>\n",
       "      <td>0.709828</td>\n",
       "    </tr>\n",
       "    <tr>\n",
       "      <th>PRI_jet_subleading_eta</th>\n",
       "      <td>0.709828</td>\n",
       "    </tr>\n",
       "    <tr>\n",
       "      <th>PRI_jet_subleading_phi</th>\n",
       "      <td>0.709828</td>\n",
       "    </tr>\n",
       "    <tr>\n",
       "      <th>PRI_jet_all_pt</th>\n",
       "      <td>0.000000</td>\n",
       "    </tr>\n",
       "  </tbody>\n",
       "</table>\n",
       "</div>"
      ],
      "text/plain": [
       "                                 rate\n",
       "DER_mass_MMC                 0.152456\n",
       "DER_mass_transverse_met_lep  0.000000\n",
       "DER_mass_vis                 0.000000\n",
       "DER_pt_h                     0.000000\n",
       "DER_deltaeta_jet_jet         0.709828\n",
       "DER_mass_jet_jet             0.709828\n",
       "DER_prodeta_jet_jet          0.709828\n",
       "DER_deltar_tau_lep           0.000000\n",
       "DER_pt_tot                   0.000000\n",
       "DER_sum_pt                   0.000000\n",
       "DER_pt_ratio_lep_tau         0.000000\n",
       "DER_met_phi_centrality       0.000000\n",
       "DER_lep_eta_centrality       0.709828\n",
       "PRI_tau_pt                   0.000000\n",
       "PRI_tau_eta                  0.000000\n",
       "PRI_tau_phi                  0.000000\n",
       "PRI_lep_pt                   0.000000\n",
       "PRI_lep_eta                  0.000000\n",
       "PRI_lep_phi                  0.000000\n",
       "PRI_met                      0.000000\n",
       "PRI_met_phi                  0.000000\n",
       "PRI_met_sumet                0.000000\n",
       "PRI_jet_num                  0.000000\n",
       "PRI_jet_leading_pt           0.399652\n",
       "PRI_jet_leading_eta          0.399652\n",
       "PRI_jet_leading_phi          0.399652\n",
       "PRI_jet_subleading_pt        0.709828\n",
       "PRI_jet_subleading_eta       0.709828\n",
       "PRI_jet_subleading_phi       0.709828\n",
       "PRI_jet_all_pt               0.000000"
      ]
     },
     "execution_count": 6,
     "metadata": {},
     "output_type": "execute_result"
    }
   ],
   "source": [
    "df_miss_tr = missing_rate(data_tr)\n",
    "df_miss_tr"
   ]
  },
  {
   "cell_type": "code",
   "execution_count": 7,
   "metadata": {
    "scrolled": true
   },
   "outputs": [],
   "source": [
    "# replacing the -999 with mode in signal or background\n",
    "\n",
    "DER_mode_s = data_tr.loc[(data_tr['DER_mass_MMC']!=-999)].loc[(data_tr['Prediction'])=='s']['DER_mass_MMC'].mean(axis=0)#value_counts().index[0]\n",
    "DER_mode_b = data_tr.loc[(data_tr['DER_mass_MMC']!=-999)].loc[(data_tr['Prediction'])=='b']['DER_mass_MMC'].mean(axis=0)#value_counts().index[0]\n",
    "\n",
    "idx_s = data_tr.loc[(data_tr['DER_mass_MMC']==-999)].loc[(data_tr['Prediction'])=='s']['DER_mass_MMC'].index\n",
    "idx_b = data_tr.loc[(data_tr['DER_mass_MMC']==-999)].loc[(data_tr['Prediction'])=='b']['DER_mass_MMC'].index\n",
    "\n",
    "data_tr.loc[idx_s,'DER_mass_MMC']=DER_mode_s\n",
    "data_tr.loc[idx_b,'DER_mass_MMC']=DER_mode_b\n"
   ]
  },
  {
   "cell_type": "code",
   "execution_count": 8,
   "metadata": {},
   "outputs": [
    {
     "data": {
      "text/plain": [
       "{'names_70': ['DER_deltaeta_jet_jet',\n",
       "  'DER_mass_jet_jet',\n",
       "  'DER_prodeta_jet_jet',\n",
       "  'DER_lep_eta_centrality',\n",
       "  'PRI_jet_subleading_pt',\n",
       "  'PRI_jet_subleading_eta',\n",
       "  'PRI_jet_subleading_phi'],\n",
       " 'names_30': ['PRI_jet_leading_pt',\n",
       "  'PRI_jet_leading_eta',\n",
       "  'PRI_jet_leading_phi'],\n",
       " 'names_phi': ['PRI_jet_leading_phi',\n",
       "  'PRI_jet_subleading_phi',\n",
       "  'PRI_lep_phi',\n",
       "  'PRI_met_phi',\n",
       "  'PRI_tau_phi',\n",
       "  'PRI_jet_num']}"
      ]
     },
     "execution_count": 8,
     "metadata": {},
     "output_type": "execute_result"
    }
   ],
   "source": [
    "drop_col = drop_columns(df_miss_tr)\n",
    "drop_col"
   ]
  },
  {
   "cell_type": "markdown",
   "metadata": {},
   "source": [
    "'DER_deltaeta_jet_jet','DER_mass_jet_jet','DER_prodeta_jet_jet','DER_lep_eta_centrality','PRI_jet_subleading_pt','PRI_jet_subleading_eta','PRI_jet_subleading_phi': missing rate = 70.9% (PRI_jet_num <= 1)\n",
    "\n",
    "'PRI_jet_leading_pt','PRI_jet_leading_eta','PRI_jet_leading_phi': missing rate = 39.9% (PRI_jet_num = 0)"
   ]
  },
  {
   "cell_type": "code",
   "execution_count": 9,
   "metadata": {},
   "outputs": [],
   "source": [
    "def group_features_by_jet(df):\n",
    "    return {  \n",
    "        0: df.loc[df['PRI_jet_num'] == 0].copy(),\n",
    "        1: df.loc[df['PRI_jet_num'] == 1].copy(),\n",
    "        2: df.loc[(df['PRI_jet_num'] == 2) | (df['PRI_jet_num'] == 3)].copy(),\n",
    "    }"
   ]
  },
  {
   "cell_type": "code",
   "execution_count": 10,
   "metadata": {},
   "outputs": [],
   "source": [
    "feature_tr_grp = group_features_by_jet(data_tr)"
   ]
  },
  {
   "cell_type": "code",
   "execution_count": 11,
   "metadata": {},
   "outputs": [],
   "source": [
    "feature_tr_grp[0] = feature_tr_grp[0].drop(columns = list(set(drop_col['names_phi']+drop_col['names_70']+drop_col['names_30'])))\n",
    "feature_tr_grp[0] = feature_tr_grp[0].drop(columns = 'PRI_jet_all_pt')# all 0s\n",
    "feature_tr_grp[1] = feature_tr_grp[1].drop(columns = list(set(drop_col['names_phi']+drop_col['names_70'])))\n",
    "feature_tr_grp[2] = feature_tr_grp[2].drop(columns = list(set(drop_col['names_phi'])))"
   ]
  },
  {
   "cell_type": "code",
   "execution_count": 12,
   "metadata": {},
   "outputs": [],
   "source": [
    "# for df['PRI_jet_num'] == 0\n",
    "x_tr0,mean0,std0 = standardize(feature_tr_grp[0].drop(columns = ['Id','Prediction']).values)\n",
    "y_tr0 = feature_tr_grp[0].Prediction.replace(['s','b'],[1,-1]).values\n",
    "w0 = least_squares(y_tr0,x_tr0)\n",
    "idx_tr0 = feature_tr_grp[0].Id\n",
    "y_pred_tr0 = predict_labels(w0, x_tr0)\n"
   ]
  },
  {
   "cell_type": "code",
   "execution_count": 13,
   "metadata": {},
   "outputs": [],
   "source": [
    "# for df['PRI_jet_num'] == 1\n",
    "x_tr1,_,_ = standardize(feature_tr_grp[1].drop(columns = ['Id','Prediction']).values)\n",
    "y_tr1 = feature_tr_grp[1].Prediction.replace(['s','b'],[1,-1]).values\n",
    "w1 = least_squares(y_tr1,x_tr1)\n",
    "idx_tr1 = feature_tr_grp[1].Id\n",
    "y_pred_tr1 = predict_labels(w1, x_tr1)\n"
   ]
  },
  {
   "cell_type": "code",
   "execution_count": 14,
   "metadata": {},
   "outputs": [],
   "source": [
    "# for df['PRI_jet_num'] == 2,3\n",
    "x_tr2,_,_ = standardize(feature_tr_grp[2].drop(columns = ['Id','Prediction']).values)\n",
    "y_tr2 = feature_tr_grp[2].Prediction.replace(['s','b'],[1,-1]).values\n",
    "w2 = least_squares(y_tr2,x_tr2)\n",
    "idx_tr2 = feature_tr_grp[2].Id\n",
    "y_pred_tr2 = predict_labels(w2, x_tr2)"
   ]
  },
  {
   "cell_type": "code",
   "execution_count": 15,
   "metadata": {},
   "outputs": [],
   "source": [
    "# create_csv_submission(idx_te, y_pred_te, 'submission.csv')"
   ]
  },
  {
   "cell_type": "code",
   "execution_count": 24,
   "metadata": {
    "scrolled": true
   },
   "outputs": [
    {
     "name": "stdout",
     "output_type": "stream",
     "text": [
      "lambda = 1e-10: Training accuracy: 0.8167923311314251 - Test accuracy : 0.816634971474327\n",
      "lambda = 4.281332398719396e-10: Training accuracy: 0.8167834345321501 - Test accuracy : 0.816604944450005\n",
      "lambda = 1.8329807108324374e-09: Training accuracy: 0.8167845466070596 - Test accuracy : 0.8166149534581123\n",
      "lambda = 7.847599703514623e-09: Training accuracy: 0.8167834345321501 - Test accuracy : 0.8166249624662196\n",
      "lambda = 3.3598182862837814e-08: Training accuracy: 0.8167845466070596 - Test accuracy : 0.8166249624662196\n",
      "lambda = 1.438449888287663e-07: Training accuracy: 0.8167845466070596 - Test accuracy : 0.8166249624662196\n",
      "lambda = 6.158482110660254e-07: Training accuracy: 0.8167856586819688 - Test accuracy : 0.8166249624662196\n",
      "lambda = 2.6366508987303555e-06: Training accuracy: 0.8167889949066968 - Test accuracy : 0.8166249624662196\n",
      "lambda = 1.1288378916846883e-05: Training accuracy: 0.8167912190565156 - Test accuracy : 0.8166149534581123\n",
      "lambda = 4.8329302385717524e-05: Training accuracy: 0.8167800983074219 - Test accuracy : 0.8165849264337904\n",
      "lambda = 0.00020691380811147902: Training accuracy: 0.8167745379328751 - Test accuracy : 0.8165849264337904\n",
      "lambda = 0.0008858667904100814: Training accuracy: 0.8168134605547029 - Test accuracy : 0.8167050345310779\n",
      "lambda = 0.003792690190732246: Training accuracy: 0.8168301416783436 - Test accuracy : 0.8168151336202583\n",
      "lambda = 0.016237767391887176: Training accuracy: 0.8161873623807299 - Test accuracy : 0.8161545390851768\n",
      "lambda = 0.0695192796177559: Training accuracy: 0.8148728898378594 - Test accuracy : 0.8149034130717645\n",
      "lambda = 0.2976351441631313: Training accuracy: 0.8128500255777229 - Test accuracy : 0.8126313682314082\n",
      "lambda = 1.2742749857031321: Training accuracy: 0.8040423922955451 - Test accuracy : 0.8039735762185968\n",
      "lambda = 5.455594781168514: Training accuracy: 0.7911879184181846 - Test accuracy : 0.7910119107196476\n",
      "lambda = 23.357214690901213: Training accuracy: 0.7862358488467783 - Test accuracy : 0.7861775598038234\n",
      "lambda = 100.0: Training accuracy: 0.78465447832566 - Test accuracy : 0.7844960464417976\n"
     ]
    }
   ],
   "source": [
    "k_fold = 10\n",
    "seed = 1\n",
    "lambdas = np.logspace(-10, 2, 20) \n",
    "\n",
    "for lambda_ in lambdas:\n",
    "    acc_tr0,acc_te0 = cv_loop(y_tr0, x_tr0,k_fold,seed,ridge_regression,lambda_=lambda_)\n",
    "    print(\"lambda = {}: Training accuracy: {} - Test accuracy : {}\".format(lambda_, acc_tr0, acc_te0))"
   ]
  },
  {
   "cell_type": "code",
   "execution_count": 25,
   "metadata": {},
   "outputs": [
    {
     "name": "stdout",
     "output_type": "stream",
     "text": [
      "lambda = 1e-10: Training accuracy: 0.710692076228686 - Test accuracy : 0.7103946350270828\n",
      "lambda = 4.281332398719396e-10: Training accuracy: 0.7107235993695372 - Test accuracy : 0.7104075315965953\n",
      "lambda = 1.8329807108324374e-09: Training accuracy: 0.7107235993695371 - Test accuracy : 0.7103559453185453\n",
      "lambda = 7.847599703514623e-09: Training accuracy: 0.7107278979796533 - Test accuracy : 0.7103430487490328\n",
      "lambda = 3.3598182862837814e-08: Training accuracy: 0.7107264651096146 - Test accuracy : 0.7103430487490328\n",
      "lambda = 1.438449888287663e-07: Training accuracy: 0.7107264651096146 - Test accuracy : 0.7103430487490328\n",
      "lambda = 6.158482110660254e-07: Training accuracy: 0.7107264651096146 - Test accuracy : 0.7103430487490328\n",
      "lambda = 2.6366508987303555e-06: Training accuracy: 0.7107264651096146 - Test accuracy : 0.7103430487490328\n",
      "lambda = 1.1288378916846883e-05: Training accuracy: 0.7107278979796533 - Test accuracy : 0.7103430487490328\n",
      "lambda = 4.8329302385717524e-05: Training accuracy: 0.7107321965897693 - Test accuracy : 0.7103043590404953\n",
      "lambda = 0.00020691380811147902: Training accuracy: 0.7107278979796532 - Test accuracy : 0.7102398761929327\n",
      "lambda = 0.0008858667904100814: Training accuracy: 0.7106533887376416 - Test accuracy : 0.7102269796234202\n",
      "lambda = 0.003792690190732246: Training accuracy: 0.7106118355065195 - Test accuracy : 0.7102011864843952\n",
      "lambda = 0.016237767391887176: Training accuracy: 0.7109872474566556 - Test accuracy : 0.7106654629868455\n",
      "lambda = 0.0695192796177559: Training accuracy: 0.7109729187562688 - Test accuracy : 0.710523600722208\n",
      "lambda = 0.2976351441631313: Training accuracy: 0.7083278406648517 - Test accuracy : 0.708021666236781\n",
      "lambda = 1.2742749857031321: Training accuracy: 0.7028571428571428 - Test accuracy : 0.7029275212793398\n",
      "lambda = 5.455594781168514: Training accuracy: 0.6971027367817738 - Test accuracy : 0.6968790301779727\n",
      "lambda = 23.357214690901213: Training accuracy: 0.6934704112337011 - Test accuracy : 0.6934614392571576\n",
      "lambda = 100.0: Training accuracy: 0.6918956870611834 - Test accuracy : 0.6921072994583441\n"
     ]
    }
   ],
   "source": [
    "for lambda_ in lambdas:\n",
    "    acc_tr1,acc_te1 = cv_loop(y_tr1, x_tr1,k_fold,seed,ridge_regression,lambda_=lambda_)\n",
    "    print(\"lambda = {}: Training accuracy: {} - Test accuracy : {}\".format(lambda_, acc_tr1, acc_te1))"
   ]
  },
  {
   "cell_type": "code",
   "execution_count": 23,
   "metadata": {},
   "outputs": [
    {
     "name": "stdout",
     "output_type": "stream",
     "text": [
      "lambda = 1e-20: Training accuracy: 0.7308811591539157 - Test accuracy : 0.7307003032809485\n",
      "lambda = 1.4384498882876659e-19: Training accuracy: 0.7308811591539157 - Test accuracy : 0.7307003032809485\n",
      "lambda = 2.0691380811147986e-18: Training accuracy: 0.7308811591539157 - Test accuracy : 0.7307003032809485\n",
      "lambda = 2.976351441631313e-17: Training accuracy: 0.7308811591539157 - Test accuracy : 0.7307003032809485\n",
      "lambda = 4.281332398719396e-16: Training accuracy: 0.7308811591539157 - Test accuracy : 0.7307003032809485\n",
      "lambda = 6.15848211066028e-15: Training accuracy: 0.7308811591539157 - Test accuracy : 0.7307003032809485\n",
      "lambda = 8.858667904100832e-14: Training accuracy: 0.7308842224570755 - Test accuracy : 0.7307003032809485\n",
      "lambda = 1.2742749857031321e-12: Training accuracy: 0.7309117921855136 - Test accuracy : 0.7307278742762614\n",
      "lambda = 1.8329807108324375e-11: Training accuracy: 0.7309715265971296 - Test accuracy : 0.7307554452715743\n",
      "lambda = 2.6366508987303664e-10: Training accuracy: 0.7309730582487095 - Test accuracy : 0.7307692307692307\n",
      "lambda = 3.792690190732254e-09: Training accuracy: 0.7309730582487097 - Test accuracy : 0.7307692307692307\n",
      "lambda = 5.4555947811685146e-08: Training accuracy: 0.7309730582487097 - Test accuracy : 0.7307692307692307\n",
      "lambda = 7.847599703514623e-07: Training accuracy: 0.7309730582487097 - Test accuracy : 0.7307692307692307\n",
      "lambda = 1.1288378916846929e-05: Training accuracy: 0.7309715265971296 - Test accuracy : 0.7307554452715743\n",
      "lambda = 0.00016237767391887175: Training accuracy: 0.7309638683392302 - Test accuracy : 0.7307554452715743\n",
      "lambda = 0.002335721469090121: Training accuracy: 0.7305840187474153 - Test accuracy : 0.7303280948442239\n",
      "lambda = 0.03359818286283788: Training accuracy: 0.7266783072186739 - Test accuracy : 0.7263716570168183\n",
      "lambda = 0.4832930238571772: Training accuracy: 0.7095927338449048 - Test accuracy : 0.7094017094017093\n",
      "lambda = 6.951927961775648: Training accuracy: 0.6980410176293097 - Test accuracy : 0.6979873173421559\n",
      "lambda = 100.0: Training accuracy: 0.6952442218444148 - Test accuracy : 0.6950647918389855\n"
     ]
    }
   ],
   "source": [
    "for lambda_ in lambdas:\n",
    "    acc_tr2,acc_te2 = cv_loop(y_tr2, x_tr2,k_fold,seed,ridge_regression,lambda_=lambda_)\n",
    "    print(\"lambda = {}: Training accuracy: {} - Test accuracy : {}\".format(lambda_, acc_tr2, acc_te2))"
   ]
  },
  {
   "cell_type": "code",
   "execution_count": null,
   "metadata": {},
   "outputs": [],
   "source": []
  }
 ],
 "metadata": {
  "kernelspec": {
   "display_name": "Python 3",
   "language": "python",
   "name": "python3"
  },
  "language_info": {
   "codemirror_mode": {
    "name": "ipython",
    "version": 3
   },
   "file_extension": ".py",
   "mimetype": "text/x-python",
   "name": "python",
   "nbconvert_exporter": "python",
   "pygments_lexer": "ipython3",
   "version": "3.6.5"
  }
 },
 "nbformat": 4,
 "nbformat_minor": 2
}
